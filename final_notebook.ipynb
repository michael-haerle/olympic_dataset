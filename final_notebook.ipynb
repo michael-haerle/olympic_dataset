{
 "cells": [
  {
   "cell_type": "markdown",
   "id": "bcdc8734-ecd1-4dac-aeb5-c70f8d61f355",
   "metadata": {},
   "source": [
    "<hr style=\"border-top:5px solid Gold; margin-top: 2px; margin-bottom: 0px\">\n",
    "<hr style=\"border-top:5px solid Silver; margin-top: 0px; margin-bottom: 0px\">\n",
    "<hr style=\"border-top:5px solid #DC9233; margin-top: 0px; margin-bottom: 0px\">"
   ]
  },
  {
   "cell_type": "markdown",
   "id": "21658513-8cfe-414b-935d-615850234dfe",
   "metadata": {},
   "source": [
    "# Medals at the Olympics"
   ]
  },
  {
   "cell_type": "markdown",
   "id": "1d6eda6c-45c0-45be-b507-180c595accf9",
   "metadata": {},
   "source": [
    "<hr style=\"border-top:5px solid Gold; margin-top: 2px; margin-bottom: 0px\">\n",
    "<hr style=\"border-top:5px solid Silver; margin-top: 0px; margin-bottom: 0px\">\n",
    "<hr style=\"border-top:5px solid #DC9233; margin-top: 0px; margin-bottom: 0px\">"
   ]
  },
  {
   "cell_type": "code",
   "execution_count": 1,
   "id": "ee25bc7a-e08f-4f65-9646-16bbb2534a5a",
   "metadata": {},
   "outputs": [],
   "source": [
    "# Standard imports\n",
    "import pandas as pd\n",
    "from scipy import stats\n",
    "\n",
    "# Visulation Imports\n",
    "import matplotlib.pyplot as plt\n",
    "import seaborn as sns\n",
    "\n",
    "# import splitting and imputing functions\n",
    "from sklearn.model_selection import train_test_split\n",
    "from sklearn.impute import SimpleImputer\n",
    "\n",
    "# Modeling imports\n",
    "from sklearn.linear_model import LinearRegression, LassoLars, TweedieRegressor\n",
    "from sklearn.metrics import mean_squared_error, r2_score, explained_variance_score\n",
    "from sklearn.feature_selection import f_regression \n",
    "from sklearn.metrics import mean_squared_error\n",
    "from sklearn.preprocessing import PolynomialFeatures\n",
    "from sklearn.feature_selection import SelectKBest, f_regression, RFE\n",
    "import sklearn.preprocessing\n",
    "import statsmodels.api as sm\n",
    "from sklearn.cluster import DBSCAN\n",
    "from sklearn.feature_extraction.text import TfidfVectorizer\n",
    "from sklearn.linear_model import LogisticRegression\n",
    "from sklearn.metrics import classification_report, accuracy_score\n",
    "from sklearn.feature_extraction.text import CountVectorizer\n",
    "from sklearn.naive_bayes import MultinomialNB\n",
    "from sklearn.tree import DecisionTreeClassifier\n",
    "from sklearn.neighbors import KNeighborsClassifier\n",
    "from sklearn.model_selection import GridSearchCV\n",
    "from sklearn.model_selection import cross_val_score\n",
    "from sklearn.metrics import confusion_matrix, ConfusionMatrixDisplay\n",
    "from sklearn.ensemble import RandomForestClassifier\n",
    "from sklearn.naive_bayes import GaussianNB\n",
    "\n",
    "# turn off pink boxes\n",
    "import warnings\n",
    "warnings.filterwarnings(\"ignore\")\n",
    "\n",
    "# Custom Imports\n",
    "import wrangle\n",
    "import explore\n",
    "import model"
   ]
  },
  {
   "cell_type": "markdown",
   "id": "e35e4fd5-ed8c-4966-9ff6-692010576339",
   "metadata": {},
   "source": [
    "## Project Goal\n",
    "- Create a classification model to predict if an olympic athlete will medal or not."
   ]
  },
  {
   "cell_type": "markdown",
   "id": "fb13fd19-2f02-4bc7-8d0e-139a2c46a793",
   "metadata": {},
   "source": [
    "<hr style=\"border-top:5px solid Gold; margin-top: 2px; margin-bottom: 0px\">\n",
    "<hr style=\"border-top:5px solid Silver; margin-top: 0px; margin-bottom: 0px\">\n",
    "<hr style=\"border-top:5px solid #DC9233; margin-top: 0px; margin-bottom: 0px\">"
   ]
  },
  {
   "cell_type": "markdown",
   "id": "23bb0036-375e-4f16-8516-a523c518c0b2",
   "metadata": {},
   "source": [
    "# Acquire and Prepare"
   ]
  },
  {
   "cell_type": "markdown",
   "id": "52910512-1379-4791-aaf5-f51fe4ad2c0b",
   "metadata": {},
   "source": [
    "<hr style=\"border-top:5px solid Gold; margin-top: 2px; margin-bottom: 0px\">\n",
    "<hr style=\"border-top:5px solid Silver; margin-top: 0px; margin-bottom: 0px\">\n",
    "<hr style=\"border-top:5px solid #DC9233; margin-top: 0px; margin-bottom: 0px\">"
   ]
  },
  {
   "cell_type": "markdown",
   "id": "701abc5e-9e8e-4925-9717-676f92a76bae",
   "metadata": {},
   "source": [
    "#### This function reads 2 csv's and assigns them into a dataframe. It then feature engineers 5 new columns, those columns are Medal, Sex_Male, medalist, BMI, and AgeBins. From there it splits the data and imputes the null values for Age, drops data prior to the year 1961, and drops the remaining nulls."
   ]
  },
  {
   "cell_type": "code",
   "execution_count": 2,
   "id": "e855331b-1b82-4efb-8b13-4cbc36d13d5d",
   "metadata": {},
   "outputs": [],
   "source": [
    "df, df1, train, validate, test = wrangle.wrangle_df()"
   ]
  },
  {
   "cell_type": "code",
   "execution_count": 3,
   "id": "d8fff74f-497d-4dda-9bed-54a718df577b",
   "metadata": {},
   "outputs": [
    {
     "data": {
      "text/html": [
       "<div>\n",
       "<style scoped>\n",
       "    .dataframe tbody tr th:only-of-type {\n",
       "        vertical-align: middle;\n",
       "    }\n",
       "\n",
       "    .dataframe tbody tr th {\n",
       "        vertical-align: top;\n",
       "    }\n",
       "\n",
       "    .dataframe thead th {\n",
       "        text-align: right;\n",
       "    }\n",
       "</style>\n",
       "<table border=\"1\" class=\"dataframe\">\n",
       "  <thead>\n",
       "    <tr style=\"text-align: right;\">\n",
       "      <th></th>\n",
       "      <th>ID</th>\n",
       "      <th>Name</th>\n",
       "      <th>Sex</th>\n",
       "      <th>Age</th>\n",
       "      <th>Height</th>\n",
       "      <th>Weight</th>\n",
       "      <th>Team</th>\n",
       "      <th>NOC</th>\n",
       "      <th>Games</th>\n",
       "      <th>Year</th>\n",
       "      <th>Season</th>\n",
       "      <th>City</th>\n",
       "      <th>Sport</th>\n",
       "      <th>Event</th>\n",
       "      <th>Medal</th>\n",
       "      <th>Sex_Male</th>\n",
       "      <th>medalist</th>\n",
       "      <th>BMI</th>\n",
       "      <th>AgeBins</th>\n",
       "    </tr>\n",
       "  </thead>\n",
       "  <tbody>\n",
       "    <tr>\n",
       "      <th>134366</th>\n",
       "      <td>67642</td>\n",
       "      <td>Kenneth P. L. \"Ken\" LeBlanc</td>\n",
       "      <td>M</td>\n",
       "      <td>23.0</td>\n",
       "      <td>183.0</td>\n",
       "      <td>96.0</td>\n",
       "      <td>Canada-1</td>\n",
       "      <td>CAN</td>\n",
       "      <td>1992 Winter</td>\n",
       "      <td>1992</td>\n",
       "      <td>Winter</td>\n",
       "      <td>Albertville</td>\n",
       "      <td>Bobsleigh</td>\n",
       "      <td>Bobsleigh Men's Four</td>\n",
       "      <td>None</td>\n",
       "      <td>1</td>\n",
       "      <td>0</td>\n",
       "      <td>13.0</td>\n",
       "      <td>20s</td>\n",
       "    </tr>\n",
       "    <tr>\n",
       "      <th>250206</th>\n",
       "      <td>125322</td>\n",
       "      <td>Petri Johannes Varis</td>\n",
       "      <td>M</td>\n",
       "      <td>24.0</td>\n",
       "      <td>185.0</td>\n",
       "      <td>92.5</td>\n",
       "      <td>Finland</td>\n",
       "      <td>FIN</td>\n",
       "      <td>1994 Winter</td>\n",
       "      <td>1994</td>\n",
       "      <td>Winter</td>\n",
       "      <td>Lillehammer</td>\n",
       "      <td>Ice Hockey</td>\n",
       "      <td>Ice Hockey Men's Ice Hockey</td>\n",
       "      <td>Bronze</td>\n",
       "      <td>1</td>\n",
       "      <td>1</td>\n",
       "      <td>12.3</td>\n",
       "      <td>20s</td>\n",
       "    </tr>\n",
       "    <tr>\n",
       "      <th>182345</th>\n",
       "      <td>91662</td>\n",
       "      <td>James Parker</td>\n",
       "      <td>M</td>\n",
       "      <td>28.0</td>\n",
       "      <td>182.0</td>\n",
       "      <td>111.0</td>\n",
       "      <td>United States</td>\n",
       "      <td>USA</td>\n",
       "      <td>2004 Summer</td>\n",
       "      <td>2004</td>\n",
       "      <td>Summer</td>\n",
       "      <td>Athina</td>\n",
       "      <td>Athletics</td>\n",
       "      <td>Athletics Men's Hammer Throw</td>\n",
       "      <td>None</td>\n",
       "      <td>1</td>\n",
       "      <td>0</td>\n",
       "      <td>15.2</td>\n",
       "      <td>20s</td>\n",
       "    </tr>\n",
       "    <tr>\n",
       "      <th>209315</th>\n",
       "      <td>105095</td>\n",
       "      <td>Juan Antonio San Epifanio Ruiz</td>\n",
       "      <td>M</td>\n",
       "      <td>25.0</td>\n",
       "      <td>198.0</td>\n",
       "      <td>89.0</td>\n",
       "      <td>Spain</td>\n",
       "      <td>ESP</td>\n",
       "      <td>1984 Summer</td>\n",
       "      <td>1984</td>\n",
       "      <td>Summer</td>\n",
       "      <td>Los Angeles</td>\n",
       "      <td>Basketball</td>\n",
       "      <td>Basketball Men's Basketball</td>\n",
       "      <td>Silver</td>\n",
       "      <td>1</td>\n",
       "      <td>1</td>\n",
       "      <td>10.3</td>\n",
       "      <td>20s</td>\n",
       "    </tr>\n",
       "    <tr>\n",
       "      <th>27650</th>\n",
       "      <td>14348</td>\n",
       "      <td>James F. Boyde</td>\n",
       "      <td>M</td>\n",
       "      <td>24.0</td>\n",
       "      <td>170.0</td>\n",
       "      <td>71.0</td>\n",
       "      <td>Canada</td>\n",
       "      <td>CAN</td>\n",
       "      <td>1968 Winter</td>\n",
       "      <td>1968</td>\n",
       "      <td>Winter</td>\n",
       "      <td>Grenoble</td>\n",
       "      <td>Biathlon</td>\n",
       "      <td>Biathlon Men's 20 kilometres</td>\n",
       "      <td>None</td>\n",
       "      <td>1</td>\n",
       "      <td>0</td>\n",
       "      <td>11.1</td>\n",
       "      <td>20s</td>\n",
       "    </tr>\n",
       "  </tbody>\n",
       "</table>\n",
       "</div>"
      ],
      "text/plain": [
       "            ID                            Name Sex   Age  Height  Weight  \\\n",
       "134366   67642     Kenneth P. L. \"Ken\" LeBlanc   M  23.0   183.0    96.0   \n",
       "250206  125322            Petri Johannes Varis   M  24.0   185.0    92.5   \n",
       "182345   91662                    James Parker   M  28.0   182.0   111.0   \n",
       "209315  105095  Juan Antonio San Epifanio Ruiz   M  25.0   198.0    89.0   \n",
       "27650    14348                  James F. Boyde   M  24.0   170.0    71.0   \n",
       "\n",
       "                 Team  NOC        Games  Year  Season         City  \\\n",
       "134366       Canada-1  CAN  1992 Winter  1992  Winter  Albertville   \n",
       "250206        Finland  FIN  1994 Winter  1994  Winter  Lillehammer   \n",
       "182345  United States  USA  2004 Summer  2004  Summer       Athina   \n",
       "209315          Spain  ESP  1984 Summer  1984  Summer  Los Angeles   \n",
       "27650          Canada  CAN  1968 Winter  1968  Winter     Grenoble   \n",
       "\n",
       "             Sport                         Event   Medal  Sex_Male  medalist  \\\n",
       "134366   Bobsleigh          Bobsleigh Men's Four    None         1         0   \n",
       "250206  Ice Hockey   Ice Hockey Men's Ice Hockey  Bronze         1         1   \n",
       "182345   Athletics  Athletics Men's Hammer Throw    None         1         0   \n",
       "209315  Basketball   Basketball Men's Basketball  Silver         1         1   \n",
       "27650     Biathlon  Biathlon Men's 20 kilometres    None         1         0   \n",
       "\n",
       "         BMI AgeBins  \n",
       "134366  13.0     20s  \n",
       "250206  12.3     20s  \n",
       "182345  15.2     20s  \n",
       "209315  10.3     20s  \n",
       "27650   11.1     20s  "
      ]
     },
     "execution_count": 3,
     "metadata": {},
     "output_type": "execute_result"
    }
   ],
   "source": [
    "train.head()"
   ]
  },
  {
   "cell_type": "markdown",
   "id": "d1c21dea-f2d7-4d8e-9561-d9d17b4ec5ea",
   "metadata": {},
   "source": [
    "## Acquire and Prepare Takeaways"
   ]
  },
  {
   "cell_type": "markdown",
   "id": "f0547936-4adc-41ba-81f0-abdf0d41e7f4",
   "metadata": {},
   "source": [
    "- 5 columns were feature engineered.\n",
    "- Nulls were handled by imputing with mean, dropping old data, and dropping the remaining nulls.\n",
    "- Our dataframe was left with 271,116 rows and 19 columns."
   ]
  },
  {
   "cell_type": "markdown",
   "id": "588fb6df-7b0f-40cb-8f21-b70371e19216",
   "metadata": {},
   "source": [
    "<hr style=\"border-top:5px solid Gold; margin-top: 2px; margin-bottom: 0px\">\n",
    "<hr style=\"border-top:5px solid Silver; margin-top: 0px; margin-bottom: 0px\">\n",
    "<hr style=\"border-top:5px solid #DC9233; margin-top: 0px; margin-bottom: 0px\">"
   ]
  },
  {
   "cell_type": "markdown",
   "id": "62bbb7be-5d8f-4230-aa7e-7975df4d7d50",
   "metadata": {},
   "source": [
    "# Exploration"
   ]
  },
  {
   "cell_type": "markdown",
   "id": "2086f886-1fbb-4e4b-9d29-19901230da71",
   "metadata": {},
   "source": [
    "<hr style=\"border-top:5px solid Gold; margin-top: 2px; margin-bottom: 0px\">\n",
    "<hr style=\"border-top:5px solid Silver; margin-top: 0px; margin-bottom: 0px\">\n",
    "<hr style=\"border-top:5px solid #DC9233; margin-top: 0px; margin-bottom: 0px\">"
   ]
  },
  {
   "cell_type": "markdown",
   "id": "53f53ea1-649f-4f56-b3b2-ccaab05b3414",
   "metadata": {},
   "source": [
    "## Lets look at the correlations in the data"
   ]
  },
  {
   "cell_type": "code",
   "execution_count": 4,
   "id": "95c940e7-ee4b-4b77-9888-eb531127ef25",
   "metadata": {},
   "outputs": [
    {
     "data": {
      "image/png": "[encoded data removed]",
      "text/plain": [
       "<Figure size 637.625x576 with 1 Axes>"
      ]
     },
     "metadata": {
      "needs_background": "light"
     },
     "output_type": "display_data"
    }
   ],
   "source": [
    "explore.correlation_heatmap(train)"
   ]
  },
  {
   "cell_type": "markdown",
   "id": "556b7398-84a9-44fd-a929-540caaf22653",
   "metadata": {},
   "source": [
    "## Correlation Heatmap Takeaways\n",
    "- There are no negative correlation in this dataset.\n",
    "- There does not appear to be any strong correlations with the current features."
   ]
  },
  {
   "cell_type": "markdown",
   "id": "29085c55-0210-46fc-a38a-2c6485f585ca",
   "metadata": {},
   "source": [
    "# What athlete has the most medals?"
   ]
  },
  {
   "cell_type": "code",
   "execution_count": 5,
   "id": "991b6d42-d469-4563-8a77-3cca2a2b8f50",
   "metadata": {},
   "outputs": [
    {
     "name": "stdout",
     "output_type": "stream",
     "text": [
      "                              ID    Age  Height  Weight   Year  Sex_Male  \\\n",
      "Name                                                                       \n",
      "Michael Fred Phelps, II  2832180  726.0  5790.0  2730.0  60276        30   \n",
      "\n",
      "                         medalist    BMI  \n",
      "Name                                      \n",
      "Michael Fred Phelps, II        28  333.0  \n"
     ]
    }
   ],
   "source": [
    "explore.athlete_most_medals(df)"
   ]
  },
  {
   "cell_type": "markdown",
   "id": "9787a274-1289-4e45-aa8c-8ec33aed335c",
   "metadata": {},
   "source": [
    "# What age bin had the most medals?"
   ]
  },
  {
   "cell_type": "code",
   "execution_count": 6,
   "id": "ef3c3a51-cc04-4416-9d79-8038df8adcce",
   "metadata": {},
   "outputs": [
    {
     "name": "stdout",
     "output_type": "stream",
     "text": [
      "                  ID        Age      Height        Weight       Year  \\\n",
      "AgeBins                                                                \n",
      "20s      12145078665  4300448.0  25877897.0  1.039639e+07  352182960   \n",
      "\n",
      "         Sex_Male  medalist        BMI  \n",
      "AgeBins                                 \n",
      "20s        131852     27545  1499674.8  \n"
     ]
    }
   ],
   "source": [
    "explore.agebin_most_medals(df)"
   ]
  },
  {
   "cell_type": "markdown",
   "id": "6dd9307d-2de6-4834-8f6e-3ab8cceb5ad5",
   "metadata": {},
   "source": [
    "# Who are the top performing teams? What team has the most medals?"
   ]
  },
  {
   "cell_type": "code",
   "execution_count": 7,
   "id": "84caed96-1065-478c-b360-b9bb7ec02094",
   "metadata": {},
   "outputs": [
    {
     "data": {
      "image/png": "[encoded data removed]",
      "text/plain": [
       "<Figure size 720x720 with 1 Axes>"
      ]
     },
     "metadata": {
      "needs_background": "light"
     },
     "output_type": "display_data"
    }
   ],
   "source": [
    "explore.barplot(train)"
   ]
  },
  {
   "cell_type": "markdown",
   "id": "3cbf0197-ec25-4ac3-82d9-49bc6fd29af8",
   "metadata": {},
   "source": [
    "## Bar Plot Takeaways\n",
    "- The United States team had the most medals.\n",
    "- The United Stats has more then double the medals of any other team except the Soviet Union."
   ]
  },
  {
   "cell_type": "markdown",
   "id": "4377d2bb-de5c-4566-be64-4cea040715be",
   "metadata": {},
   "source": [
    "## Is there a relationship between Medalists and Males?"
   ]
  },
  {
   "cell_type": "code",
   "execution_count": 8,
   "id": "aedb9a14-3d3e-4394-9eeb-44601c145b2f",
   "metadata": {},
   "outputs": [
    {
     "data": {
      "image/png": "[encoded data removed]",
      "text/plain": [
       "<Figure size 504x504 with 1 Axes>"
      ]
     },
     "metadata": {
      "needs_background": "light"
     },
     "output_type": "display_data"
    }
   ],
   "source": [
    "explore.barplot_medalist_male(train)"
   ]
  },
  {
   "cell_type": "markdown",
   "id": "5460ae60-1e3e-4ed6-ab82-a8dec4f42e87",
   "metadata": {},
   "source": [
    "## Barplot Takeaways\n",
    "- Males and Females seem to have a similar amount of medalists."
   ]
  },
  {
   "cell_type": "markdown",
   "id": "6e4ac033-6a89-41b5-8352-9fc61cbfad11",
   "metadata": {},
   "source": [
    "___"
   ]
  },
  {
   "cell_type": "markdown",
   "id": "a3a67a6f-8d66-4768-b338-e281107876e1",
   "metadata": {},
   "source": [
    "### Stats Test for Bar Plot (Chi Square Test)\n",
    "- $H_0$:Medalists and being male are independent\n",
    "- $H_a$:There is a relationship between medalists and being male\n",
    "- Alpha = 0.05"
   ]
  },
  {
   "cell_type": "code",
   "execution_count": 9,
   "id": "4368c5ff-5a33-4dc9-8dd9-4e1845a69415",
   "metadata": {},
   "outputs": [
    {
     "name": "stdout",
     "output_type": "stream",
     "text": [
      "We reject the null hypothesis that Medalists and being male are independent\n",
      "There is a relationship between medalists and being male\n",
      "P-Value 1.6278636511864776e-13\n",
      "Chi2 54.41\n",
      "Degrees of Freedom 1\n"
     ]
    }
   ],
   "source": [
    "explore.barplot_medalist_male_stat(train)"
   ]
  },
  {
   "cell_type": "markdown",
   "id": "7322b652-0e44-462e-b01d-da94c50ef0d8",
   "metadata": {},
   "source": [
    "### Stats Test Takeaways\n",
    "- There is in fact a relationship between medalists and being male."
   ]
  },
  {
   "cell_type": "markdown",
   "id": "59f54481-b824-4470-b75f-27b495215666",
   "metadata": {},
   "source": [
    "# Is there a significant difference in the average age for different medals? "
   ]
  },
  {
   "cell_type": "code",
   "execution_count": 10,
   "id": "cce6ea74-9ea3-4f8d-8cb2-15e206710737",
   "metadata": {},
   "outputs": [
    {
     "data": {
      "image/png": "[encoded data removed]",
      "text/plain": [
       "<Figure size 504x504 with 1 Axes>"
      ]
     },
     "metadata": {
      "needs_background": "light"
     },
     "output_type": "display_data"
    }
   ],
   "source": [
    "explore.barplot_average_age_by_medal(train)"
   ]
  },
  {
   "cell_type": "markdown",
   "id": "6a5014e5-20c6-4e99-aa6a-5ab652f43e62",
   "metadata": {},
   "source": [
    "## Barplot Takeaways\n",
    "- Athletes with no medals have the lowest average age.\n",
    "- Athletes with silver medals have the highest average age. \n",
    "- There is no significant difference in the average age for different medals."
   ]
  },
  {
   "cell_type": "markdown",
   "id": "f0c51fd8-a21c-4616-b9ba-f0e089475112",
   "metadata": {},
   "source": [
    "<hr style=\"border-top:5px solid Gold; margin-top: 2px; margin-bottom: 0px\">\n",
    "<hr style=\"border-top:5px solid Silver; margin-top: 0px; margin-bottom: 0px\">\n",
    "<hr style=\"border-top:5px solid #DC9233; margin-top: 0px; margin-bottom: 0px\">"
   ]
  },
  {
   "cell_type": "markdown",
   "id": "205f920f-0f95-4dda-8cf4-a663036a300b",
   "metadata": {},
   "source": [
    "# Modeling"
   ]
  },
  {
   "cell_type": "markdown",
   "id": "40df3914-e8dd-4caf-90ec-5ffc0263a589",
   "metadata": {},
   "source": [
    "<hr style=\"border-top:5px solid Gold; margin-top: 2px; margin-bottom: 0px\">\n",
    "<hr style=\"border-top:5px solid Silver; margin-top: 0px; margin-bottom: 0px\">\n",
    "<hr style=\"border-top:5px solid #DC9233; margin-top: 0px; margin-bottom: 0px\">"
   ]
  },
  {
   "cell_type": "code",
   "execution_count": 11,
   "id": "6289f16c-e3df-4d2e-906d-535023bd5b34",
   "metadata": {},
   "outputs": [
    {
     "name": "stdout",
     "output_type": "stream",
     "text": [
      "Baseline Accuracy 86.0 %\n"
     ]
    }
   ],
   "source": [
    "model.baseline_acc(train)"
   ]
  },
  {
   "cell_type": "code",
   "execution_count": 12,
   "id": "02f00cd1-90e2-4a86-8121-c729dc3a68e0",
   "metadata": {
    "tags": []
   },
   "outputs": [],
   "source": [
    "X_train, y_train, X_validate, y_validate, X_test, y_test = model.data_split(train, validate, test)"
   ]
  },
  {
   "cell_type": "code",
   "execution_count": 13,
   "id": "1df4bc68-46f8-4cb1-a715-fd32a87e2491",
   "metadata": {},
   "outputs": [
    {
     "name": "stdout",
     "output_type": "stream",
     "text": [
      "Decision Tree: max_depth=7, max_features=2, min_samples_leaf=4, criterion=\"entropy\"\n",
      "-----------------------------------------\n",
      "Model stats:\n",
      "Accuracy: 0.86\n",
      "True Positive Rate: 0.00\n",
      "False Positive Rate: 0.00\n",
      "True Negative Rate: 1.00\n",
      "Flase Negative Rate: 1.00\n",
      "Precision: 0.80\n",
      "Recall: 0.00\n",
      "f1 score: 0.00\n",
      "Positive support: 14995\n",
      "Negative support: 90558\n",
      "-----------------------------------------\n"
     ]
    }
   ],
   "source": [
    "model.decision_tree_train(X_train, y_train)"
   ]
  },
  {
   "cell_type": "code",
   "execution_count": 14,
   "id": "bb96f075-5c83-4aba-974c-893e2e417baf",
   "metadata": {},
   "outputs": [
    {
     "name": "stdout",
     "output_type": "stream",
     "text": [
      "KNN: leaf_size=2, n_neighbors=6, weights=\"uniform\"\n",
      "-----------------------------------------\n",
      "Model stats:\n",
      "Accuracy: 0.86\n",
      "True Positive Rate: 0.01\n",
      "False Positive Rate: 0.00\n",
      "True Negative Rate: 1.00\n",
      "Flase Negative Rate: 0.99\n",
      "Precision: 0.32\n",
      "Recall: 0.01\n",
      "f1 score: 0.02\n",
      "Positive support: 14995\n",
      "Negative support: 90558\n",
      "-----------------------------------------\n"
     ]
    }
   ],
   "source": [
    "model.knn_train(X_train, y_train)"
   ]
  }
 ],
 "metadata": {
  "kernelspec": {
   "display_name": "Python 3 (ipykernel)",
   "language": "python",
   "name": "python3"
  },
  "language_info": {
   "codemirror_mode": {
    "name": "ipython",
    "version": 3
   },
   "file_extension": ".py",
   "mimetype": "text/x-python",
   "name": "python",
   "nbconvert_exporter": "python",
   "pygments_lexer": "ipython3",
   "version": "3.9.12"
  }
 },
 "nbformat": 4,
 "nbformat_minor": 5
}
