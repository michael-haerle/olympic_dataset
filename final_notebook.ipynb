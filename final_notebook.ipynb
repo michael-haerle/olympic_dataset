{
 "cells": [
  {
   "cell_type": "markdown",
   "id": "bcdc8734-ecd1-4dac-aeb5-c70f8d61f355",
   "metadata": {},
   "source": [
    "<hr style=\"border-top:5px solid Gold; margin-top: 2px; margin-bottom: 0px\">\n",
    "<hr style=\"border-top:5px solid Silver; margin-top: 0px; margin-bottom: 0px\">\n",
    "<hr style=\"border-top:5px solid #DC9233; margin-top: 0px; margin-bottom: 0px\">"
   ]
  },
  {
   "cell_type": "markdown",
   "id": "21658513-8cfe-414b-935d-615850234dfe",
   "metadata": {},
   "source": [
    "# Medals at the Olympics"
   ]
  },
  {
   "cell_type": "markdown",
   "id": "1d6eda6c-45c0-45be-b507-180c595accf9",
   "metadata": {},
   "source": [
    "<hr style=\"border-top:5px solid Gold; margin-top: 2px; margin-bottom: 0px\">\n",
    "<hr style=\"border-top:5px solid Silver; margin-top: 0px; margin-bottom: 0px\">\n",
    "<hr style=\"border-top:5px solid #DC9233; margin-top: 0px; margin-bottom: 0px\">"
   ]
  },
  {
   "cell_type": "code",
   "execution_count": 1,
   "id": "ee25bc7a-e08f-4f65-9646-16bbb2534a5a",
   "metadata": {},
   "outputs": [],
   "source": [
    "# Standard imports\n",
    "import pandas as pd\n",
    "\n",
    "# Visulation Imports\n",
    "import matplotlib.pyplot as plt\n",
    "import seaborn as sns\n",
    "\n",
    "# import splitting and imputing functions\n",
    "from sklearn.model_selection import train_test_split\n",
    "from sklearn.impute import SimpleImputer\n",
    "\n",
    "# Modeling imports\n",
    "from sklearn.linear_model import LinearRegression, LassoLars, TweedieRegressor\n",
    "from sklearn.metrics import mean_squared_error, r2_score, explained_variance_score\n",
    "from sklearn.feature_selection import f_regression \n",
    "from sklearn.metrics import mean_squared_error\n",
    "from sklearn.preprocessing import PolynomialFeatures\n",
    "from sklearn.feature_selection import SelectKBest, f_regression, RFE\n",
    "import sklearn.preprocessing\n",
    "import statsmodels.api as sm\n",
    "from sklearn.cluster import DBSCAN\n",
    "from sklearn.feature_extraction.text import TfidfVectorizer\n",
    "from sklearn.linear_model import LogisticRegression\n",
    "from sklearn.metrics import classification_report, accuracy_score\n",
    "from sklearn.feature_extraction.text import CountVectorizer\n",
    "from sklearn.naive_bayes import MultinomialNB\n",
    "from sklearn.tree import DecisionTreeClassifier\n",
    "from sklearn.neighbors import KNeighborsClassifier\n",
    "from sklearn.model_selection import GridSearchCV\n",
    "from sklearn.model_selection import cross_val_score\n",
    "\n",
    "# turn off pink boxes\n",
    "import warnings\n",
    "warnings.filterwarnings(\"ignore\")\n",
    "\n",
    "# Custom Imports\n",
    "import wrangle"
   ]
  },
  {
   "cell_type": "markdown",
   "id": "e35e4fd5-ed8c-4966-9ff6-692010576339",
   "metadata": {},
   "source": [
    "## Project Goal\n",
    "- Create a classification model to predict if an olympic athlete will medal or not."
   ]
  },
  {
   "cell_type": "markdown",
   "id": "fb13fd19-2f02-4bc7-8d0e-139a2c46a793",
   "metadata": {},
   "source": [
    "<hr style=\"border-top:5px solid Gold; margin-top: 2px; margin-bottom: 0px\">\n",
    "<hr style=\"border-top:5px solid Silver; margin-top: 0px; margin-bottom: 0px\">\n",
    "<hr style=\"border-top:5px solid #DC9233; margin-top: 0px; margin-bottom: 0px\">"
   ]
  },
  {
   "cell_type": "markdown",
   "id": "23bb0036-375e-4f16-8516-a523c518c0b2",
   "metadata": {},
   "source": [
    "# Acquire and Prepare"
   ]
  },
  {
   "cell_type": "markdown",
   "id": "52910512-1379-4791-aaf5-f51fe4ad2c0b",
   "metadata": {},
   "source": [
    "<hr style=\"border-top:5px solid Gold; margin-top: 2px; margin-bottom: 0px\">\n",
    "<hr style=\"border-top:5px solid Silver; margin-top: 0px; margin-bottom: 0px\">\n",
    "<hr style=\"border-top:5px solid #DC9233; margin-top: 0px; margin-bottom: 0px\">"
   ]
  },
  {
   "cell_type": "markdown",
   "id": "701abc5e-9e8e-4925-9717-676f92a76bae",
   "metadata": {},
   "source": [
    "#### This function reads 2 csv's and assigns them into a dataframe. It then feature engineers 5 new columns, those columns are Medal, Sex_Male, medalist, BMI, and AgeBins. From there it splits the data and imputes the null values for Age, drops data prior to the year 1961, and drops the remaining nulls."
   ]
  },
  {
   "cell_type": "code",
   "execution_count": 2,
   "id": "e855331b-1b82-4efb-8b13-4cbc36d13d5d",
   "metadata": {},
   "outputs": [],
   "source": [
    "df, df1, train, validate, test = wrangle.wrangle_df()"
   ]
  },
  {
   "cell_type": "code",
   "execution_count": 3,
   "id": "d8fff74f-497d-4dda-9bed-54a718df577b",
   "metadata": {},
   "outputs": [
    {
     "data": {
      "text/html": [
       "<div>\n",
       "<style scoped>\n",
       "    .dataframe tbody tr th:only-of-type {\n",
       "        vertical-align: middle;\n",
       "    }\n",
       "\n",
       "    .dataframe tbody tr th {\n",
       "        vertical-align: top;\n",
       "    }\n",
       "\n",
       "    .dataframe thead th {\n",
       "        text-align: right;\n",
       "    }\n",
       "</style>\n",
       "<table border=\"1\" class=\"dataframe\">\n",
       "  <thead>\n",
       "    <tr style=\"text-align: right;\">\n",
       "      <th></th>\n",
       "      <th>ID</th>\n",
       "      <th>Name</th>\n",
       "      <th>Sex</th>\n",
       "      <th>Age</th>\n",
       "      <th>Height</th>\n",
       "      <th>Weight</th>\n",
       "      <th>Team</th>\n",
       "      <th>NOC</th>\n",
       "      <th>Games</th>\n",
       "      <th>Year</th>\n",
       "      <th>Season</th>\n",
       "      <th>City</th>\n",
       "      <th>Sport</th>\n",
       "      <th>Event</th>\n",
       "      <th>Medal</th>\n",
       "      <th>Sex_Male</th>\n",
       "      <th>medalist</th>\n",
       "      <th>BMI</th>\n",
       "      <th>AgeBins</th>\n",
       "    </tr>\n",
       "  </thead>\n",
       "  <tbody>\n",
       "    <tr>\n",
       "      <th>177199</th>\n",
       "      <td>89088</td>\n",
       "      <td>Michael Omondi</td>\n",
       "      <td>M</td>\n",
       "      <td>26.0</td>\n",
       "      <td>168.0</td>\n",
       "      <td>70.0</td>\n",
       "      <td>Kenya</td>\n",
       "      <td>KEN</td>\n",
       "      <td>1988 Summer</td>\n",
       "      <td>1988</td>\n",
       "      <td>Summer</td>\n",
       "      <td>Seoul</td>\n",
       "      <td>Hockey</td>\n",
       "      <td>Hockey Men's Hockey</td>\n",
       "      <td>None</td>\n",
       "      <td>1</td>\n",
       "      <td>0</td>\n",
       "      <td>11.2</td>\n",
       "      <td>20s</td>\n",
       "    </tr>\n",
       "    <tr>\n",
       "      <th>200426</th>\n",
       "      <td>100640</td>\n",
       "      <td>Hana n</td>\n",
       "      <td>F</td>\n",
       "      <td>19.0</td>\n",
       "      <td>157.0</td>\n",
       "      <td>40.0</td>\n",
       "      <td>Czechoslovakia</td>\n",
       "      <td>TCH</td>\n",
       "      <td>1988 Summer</td>\n",
       "      <td>1988</td>\n",
       "      <td>Summer</td>\n",
       "      <td>Seoul</td>\n",
       "      <td>Gymnastics</td>\n",
       "      <td>Gymnastics Women's Balance Beam</td>\n",
       "      <td>None</td>\n",
       "      <td>0</td>\n",
       "      <td>0</td>\n",
       "      <td>7.4</td>\n",
       "      <td>10s</td>\n",
       "    </tr>\n",
       "    <tr>\n",
       "      <th>264622</th>\n",
       "      <td>132418</td>\n",
       "      <td>Yan Wing-Shean</td>\n",
       "      <td>M</td>\n",
       "      <td>22.0</td>\n",
       "      <td>173.0</td>\n",
       "      <td>72.0</td>\n",
       "      <td>Chinese Taipei</td>\n",
       "      <td>TPE</td>\n",
       "      <td>1988 Summer</td>\n",
       "      <td>1988</td>\n",
       "      <td>Summer</td>\n",
       "      <td>Seoul</td>\n",
       "      <td>Fencing</td>\n",
       "      <td>Fencing Men's Foil, Individual</td>\n",
       "      <td>None</td>\n",
       "      <td>1</td>\n",
       "      <td>0</td>\n",
       "      <td>10.9</td>\n",
       "      <td>20s</td>\n",
       "    </tr>\n",
       "    <tr>\n",
       "      <th>42842</th>\n",
       "      <td>22107</td>\n",
       "      <td>Beatrice Nicoleta Coad-Claru</td>\n",
       "      <td>F</td>\n",
       "      <td>16.0</td>\n",
       "      <td>170.0</td>\n",
       "      <td>64.0</td>\n",
       "      <td>Romania</td>\n",
       "      <td>ROU</td>\n",
       "      <td>1992 Summer</td>\n",
       "      <td>1992</td>\n",
       "      <td>Summer</td>\n",
       "      <td>Barcelona</td>\n",
       "      <td>Swimming</td>\n",
       "      <td>Swimming Women's 200 metres Breaststroke</td>\n",
       "      <td>None</td>\n",
       "      <td>0</td>\n",
       "      <td>0</td>\n",
       "      <td>10.0</td>\n",
       "      <td>10s</td>\n",
       "    </tr>\n",
       "    <tr>\n",
       "      <th>42612</th>\n",
       "      <td>21983</td>\n",
       "      <td>Arnaud Clment</td>\n",
       "      <td>M</td>\n",
       "      <td>30.0</td>\n",
       "      <td>172.0</td>\n",
       "      <td>72.0</td>\n",
       "      <td>France-2</td>\n",
       "      <td>FRA</td>\n",
       "      <td>2008 Summer</td>\n",
       "      <td>2008</td>\n",
       "      <td>Summer</td>\n",
       "      <td>Beijing</td>\n",
       "      <td>Tennis</td>\n",
       "      <td>Tennis Men's Doubles</td>\n",
       "      <td>None</td>\n",
       "      <td>1</td>\n",
       "      <td>0</td>\n",
       "      <td>11.0</td>\n",
       "      <td>30s</td>\n",
       "    </tr>\n",
       "  </tbody>\n",
       "</table>\n",
       "</div>"
      ],
      "text/plain": [
       "            ID                          Name Sex   Age  Height  Weight  \\\n",
       "177199   89088                Michael Omondi   M  26.0   168.0    70.0   \n",
       "200426  100640                        Hana n   F  19.0   157.0    40.0   \n",
       "264622  132418                Yan Wing-Shean   M  22.0   173.0    72.0   \n",
       "42842    22107  Beatrice Nicoleta Coad-Claru   F  16.0   170.0    64.0   \n",
       "42612    21983                 Arnaud Clment   M  30.0   172.0    72.0   \n",
       "\n",
       "                  Team  NOC        Games  Year  Season       City       Sport  \\\n",
       "177199           Kenya  KEN  1988 Summer  1988  Summer      Seoul      Hockey   \n",
       "200426  Czechoslovakia  TCH  1988 Summer  1988  Summer      Seoul  Gymnastics   \n",
       "264622  Chinese Taipei  TPE  1988 Summer  1988  Summer      Seoul     Fencing   \n",
       "42842          Romania  ROU  1992 Summer  1992  Summer  Barcelona    Swimming   \n",
       "42612         France-2  FRA  2008 Summer  2008  Summer    Beijing      Tennis   \n",
       "\n",
       "                                           Event Medal  Sex_Male  medalist  \\\n",
       "177199                       Hockey Men's Hockey  None         1         0   \n",
       "200426           Gymnastics Women's Balance Beam  None         0         0   \n",
       "264622            Fencing Men's Foil, Individual  None         1         0   \n",
       "42842   Swimming Women's 200 metres Breaststroke  None         0         0   \n",
       "42612                       Tennis Men's Doubles  None         1         0   \n",
       "\n",
       "         BMI AgeBins  \n",
       "177199  11.2     20s  \n",
       "200426   7.4     10s  \n",
       "264622  10.9     20s  \n",
       "42842   10.0     10s  \n",
       "42612   11.0     30s  "
      ]
     },
     "execution_count": 3,
     "metadata": {},
     "output_type": "execute_result"
    }
   ],
   "source": [
    "train.head()"
   ]
  },
  {
   "cell_type": "markdown",
   "id": "d1c21dea-f2d7-4d8e-9561-d9d17b4ec5ea",
   "metadata": {},
   "source": [
    "## Acquire and Prepare Takeaways"
   ]
  },
  {
   "cell_type": "markdown",
   "id": "f0547936-4adc-41ba-81f0-abdf0d41e7f4",
   "metadata": {},
   "source": [
    "- "
   ]
  },
  {
   "cell_type": "markdown",
   "id": "588fb6df-7b0f-40cb-8f21-b70371e19216",
   "metadata": {},
   "source": [
    "<hr style=\"border-top:5px solid Gold; margin-top: 2px; margin-bottom: 0px\">\n",
    "<hr style=\"border-top:5px solid Silver; margin-top: 0px; margin-bottom: 0px\">\n",
    "<hr style=\"border-top:5px solid #DC9233; margin-top: 0px; margin-bottom: 0px\">"
   ]
  },
  {
   "cell_type": "markdown",
   "id": "62bbb7be-5d8f-4230-aa7e-7975df4d7d50",
   "metadata": {},
   "source": [
    "# Exploration"
   ]
  },
  {
   "cell_type": "markdown",
   "id": "2086f886-1fbb-4e4b-9d29-19901230da71",
   "metadata": {},
   "source": [
    "<hr style=\"border-top:5px solid Gold; margin-top: 2px; margin-bottom: 0px\">\n",
    "<hr style=\"border-top:5px solid Silver; margin-top: 0px; margin-bottom: 0px\">\n",
    "<hr style=\"border-top:5px solid #DC9233; margin-top: 0px; margin-bottom: 0px\">"
   ]
  },
  {
   "cell_type": "code",
   "execution_count": 7,
   "id": "0a28ff6f-f2bf-441d-a397-e32980eeb329",
   "metadata": {},
   "outputs": [
    {
     "data": {
      "image/png": "[encoded data removed]",
      "text/plain": [
       "<Figure size 637.625x576 with 1 Axes>"
      ]
     },
     "metadata": {
      "needs_background": "light"
     },
     "output_type": "display_data"
    }
   ],
   "source": [
    "train_corr = train.corr().stack().reset_index(name=\"correlation\")\n",
    "g = sns.relplot(\n",
    "    data=train_corr,\n",
    "    x=\"level_0\", y=\"level_1\", hue=\"correlation\", size=\"correlation\",\n",
    "    palette=\"vlag\", hue_norm=(-1, 1), edgecolor=\".7\",\n",
    "    height=8, sizes=(100, 250), size_norm=(-.2, .8))\n",
    "g.set(xlabel=\"\", ylabel=\"\", title='Olympics Correlation Scatterplot heatmap', aspect=\"equal\")\n",
    "g.despine(left=True, bottom=True)\n",
    "g.ax.margins(.02)\n",
    "for label in g.ax.get_xticklabels():\n",
    "    label.set_rotation(45)\n",
    "for artist in g.legend.legendHandles:\n",
    "    artist.set_edgecolor(\".7\")"
   ]
  },
  {
   "cell_type": "code",
   "execution_count": null,
   "id": "1add1085-4b82-453b-a77f-6d1734304c70",
   "metadata": {},
   "outputs": [],
   "source": []
  }
 ],
 "metadata": {
  "kernelspec": {
   "display_name": "Python 3 (ipykernel)",
   "language": "python",
   "name": "python3"
  },
  "language_info": {
   "codemirror_mode": {
    "name": "ipython",
    "version": 3
   },
   "file_extension": ".py",
   "mimetype": "text/x-python",
   "name": "python",
   "nbconvert_exporter": "python",
   "pygments_lexer": "ipython3",
   "version": "3.9.12"
  }
 },
 "nbformat": 4,
 "nbformat_minor": 5
}
