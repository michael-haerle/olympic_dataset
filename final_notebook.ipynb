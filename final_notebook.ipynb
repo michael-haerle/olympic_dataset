{
 "cells": [
  {
   "cell_type": "markdown",
   "id": "bcdc8734-ecd1-4dac-aeb5-c70f8d61f355",
   "metadata": {},
   "source": [
    "<hr style=\"border-top:5px solid Gold; margin-top: 2px; margin-bottom: 0px\">\n",
    "<hr style=\"border-top:5px solid Silver; margin-top: 0px; margin-bottom: 0px\">\n",
    "<hr style=\"border-top:5px solid #DC9233; margin-top: 0px; margin-bottom: 0px\">"
   ]
  },
  {
   "cell_type": "markdown",
   "id": "21658513-8cfe-414b-935d-615850234dfe",
   "metadata": {},
   "source": [
    "# Medals at the Olympics"
   ]
  },
  {
   "cell_type": "markdown",
   "id": "1d6eda6c-45c0-45be-b507-180c595accf9",
   "metadata": {},
   "source": [
    "<hr style=\"border-top:5px solid Gold; margin-top: 2px; margin-bottom: 0px\">\n",
    "<hr style=\"border-top:5px solid Silver; margin-top: 0px; margin-bottom: 0px\">\n",
    "<hr style=\"border-top:5px solid #DC9233; margin-top: 0px; margin-bottom: 0px\">"
   ]
  },
  {
   "cell_type": "code",
   "execution_count": 1,
   "id": "ee25bc7a-e08f-4f65-9646-16bbb2534a5a",
   "metadata": {},
   "outputs": [],
   "source": [
    "# Standard imports\n",
    "import pandas as pd\n",
    "\n",
    "# Visulation Imports\n",
    "import matplotlib.pyplot as plt\n",
    "import seaborn as sns\n",
    "\n",
    "# import splitting and imputing functions\n",
    "from sklearn.model_selection import train_test_split\n",
    "from sklearn.impute import SimpleImputer\n",
    "\n",
    "# Modeling imports\n",
    "from sklearn.linear_model import LinearRegression, LassoLars, TweedieRegressor\n",
    "from sklearn.metrics import mean_squared_error, r2_score, explained_variance_score\n",
    "from sklearn.feature_selection import f_regression \n",
    "from sklearn.metrics import mean_squared_error\n",
    "from sklearn.preprocessing import PolynomialFeatures\n",
    "from sklearn.feature_selection import SelectKBest, f_regression, RFE\n",
    "import sklearn.preprocessing\n",
    "import statsmodels.api as sm\n",
    "from sklearn.cluster import DBSCAN\n",
    "from sklearn.feature_extraction.text import TfidfVectorizer\n",
    "from sklearn.linear_model import LogisticRegression\n",
    "from sklearn.metrics import classification_report, accuracy_score\n",
    "from sklearn.feature_extraction.text import CountVectorizer\n",
    "from sklearn.naive_bayes import MultinomialNB\n",
    "from sklearn.tree import DecisionTreeClassifier\n",
    "from sklearn.neighbors import KNeighborsClassifier\n",
    "from sklearn.model_selection import GridSearchCV\n",
    "from sklearn.model_selection import cross_val_score\n",
    "\n",
    "# turn off pink boxes\n",
    "import warnings\n",
    "warnings.filterwarnings(\"ignore\")"
   ]
  },
  {
   "cell_type": "code",
   "execution_count": 2,
   "id": "e855331b-1b82-4efb-8b13-4cbc36d13d5d",
   "metadata": {},
   "outputs": [],
   "source": [
    "# reading in the csv and saving it to df\n",
    "df = pd.read_csv('athlete_events.csv')"
   ]
  },
  {
   "cell_type": "code",
   "execution_count": null,
   "id": "3ba4b674-93c5-4bf1-b51a-ce38b3e9ea65",
   "metadata": {},
   "outputs": [],
   "source": []
  }
 ],
 "metadata": {
  "kernelspec": {
   "display_name": "Python 3 (ipykernel)",
   "language": "python",
   "name": "python3"
  },
  "language_info": {
   "codemirror_mode": {
    "name": "ipython",
    "version": 3
   },
   "file_extension": ".py",
   "mimetype": "text/x-python",
   "name": "python",
   "nbconvert_exporter": "python",
   "pygments_lexer": "ipython3",
   "version": "3.9.12"
  }
 },
 "nbformat": 4,
 "nbformat_minor": 5
}
