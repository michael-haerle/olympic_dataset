{
 "cells": [
  {
   "cell_type": "markdown",
   "id": "7a2e9c5a-f395-4b57-8ae2-6316eacd0ac8",
   "metadata": {},
   "source": [
    "# Olympic Dataset"
   ]
  },
  {
   "cell_type": "code",
   "execution_count": 1,
   "id": "02960599-1013-426a-9c9e-ee88785bcde2",
   "metadata": {},
   "outputs": [],
   "source": [
    "import pandas as pd\n",
    "import matplotlib.pyplot as plt\n",
    "import seaborn as sns\n",
    "\n",
    "# import splitting and imputing functions\n",
    "from sklearn.model_selection import train_test_split\n",
    "from sklearn.impute import SimpleImputer\n",
    "\n",
    "# turn off pink boxes\n",
    "import warnings\n",
    "warnings.filterwarnings(\"ignore\")"
   ]
  },
  {
   "cell_type": "code",
   "execution_count": 2,
   "id": "b35bf1b8-a8b6-417c-be02-bb3b57c3a3c2",
   "metadata": {},
   "outputs": [],
   "source": [
    "df = pd.read_csv('athlete_events.csv')"
   ]
  },
  {
   "cell_type": "code",
   "execution_count": 3,
   "id": "07bfb4f5-1433-4fc6-844b-40a1787b38ad",
   "metadata": {},
   "outputs": [],
   "source": [
    "df1 = pd.read_csv('noc_regions.csv')"
   ]
  },
  {
   "cell_type": "code",
   "execution_count": 4,
   "id": "7f5e2054-26dc-4e3f-a6ee-63855b3fba7a",
   "metadata": {},
   "outputs": [
    {
     "data": {
      "text/html": [
       "<div>\n",
       "<style scoped>\n",
       "    .dataframe tbody tr th:only-of-type {\n",
       "        vertical-align: middle;\n",
       "    }\n",
       "\n",
       "    .dataframe tbody tr th {\n",
       "        vertical-align: top;\n",
       "    }\n",
       "\n",
       "    .dataframe thead th {\n",
       "        text-align: right;\n",
       "    }\n",
       "</style>\n",
       "<table border=\"1\" class=\"dataframe\">\n",
       "  <thead>\n",
       "    <tr style=\"text-align: right;\">\n",
       "      <th></th>\n",
       "      <th>ID</th>\n",
       "      <th>Name</th>\n",
       "      <th>Sex</th>\n",
       "      <th>Age</th>\n",
       "      <th>Height</th>\n",
       "      <th>Weight</th>\n",
       "      <th>Team</th>\n",
       "      <th>NOC</th>\n",
       "      <th>Games</th>\n",
       "      <th>Year</th>\n",
       "      <th>Season</th>\n",
       "      <th>City</th>\n",
       "      <th>Sport</th>\n",
       "      <th>Event</th>\n",
       "      <th>Medal</th>\n",
       "    </tr>\n",
       "  </thead>\n",
       "  <tbody>\n",
       "    <tr>\n",
       "      <th>0</th>\n",
       "      <td>1</td>\n",
       "      <td>A Dijiang</td>\n",
       "      <td>M</td>\n",
       "      <td>24.0</td>\n",
       "      <td>180.0</td>\n",
       "      <td>80.0</td>\n",
       "      <td>China</td>\n",
       "      <td>CHN</td>\n",
       "      <td>1992 Summer</td>\n",
       "      <td>1992</td>\n",
       "      <td>Summer</td>\n",
       "      <td>Barcelona</td>\n",
       "      <td>Basketball</td>\n",
       "      <td>Basketball Men's Basketball</td>\n",
       "      <td>NaN</td>\n",
       "    </tr>\n",
       "    <tr>\n",
       "      <th>1</th>\n",
       "      <td>2</td>\n",
       "      <td>A Lamusi</td>\n",
       "      <td>M</td>\n",
       "      <td>23.0</td>\n",
       "      <td>170.0</td>\n",
       "      <td>60.0</td>\n",
       "      <td>China</td>\n",
       "      <td>CHN</td>\n",
       "      <td>2012 Summer</td>\n",
       "      <td>2012</td>\n",
       "      <td>Summer</td>\n",
       "      <td>London</td>\n",
       "      <td>Judo</td>\n",
       "      <td>Judo Men's Extra-Lightweight</td>\n",
       "      <td>NaN</td>\n",
       "    </tr>\n",
       "    <tr>\n",
       "      <th>2</th>\n",
       "      <td>3</td>\n",
       "      <td>Gunnar Nielsen Aaby</td>\n",
       "      <td>M</td>\n",
       "      <td>24.0</td>\n",
       "      <td>NaN</td>\n",
       "      <td>NaN</td>\n",
       "      <td>Denmark</td>\n",
       "      <td>DEN</td>\n",
       "      <td>1920 Summer</td>\n",
       "      <td>1920</td>\n",
       "      <td>Summer</td>\n",
       "      <td>Antwerpen</td>\n",
       "      <td>Football</td>\n",
       "      <td>Football Men's Football</td>\n",
       "      <td>NaN</td>\n",
       "    </tr>\n",
       "    <tr>\n",
       "      <th>3</th>\n",
       "      <td>4</td>\n",
       "      <td>Edgar Lindenau Aabye</td>\n",
       "      <td>M</td>\n",
       "      <td>34.0</td>\n",
       "      <td>NaN</td>\n",
       "      <td>NaN</td>\n",
       "      <td>Denmark/Sweden</td>\n",
       "      <td>DEN</td>\n",
       "      <td>1900 Summer</td>\n",
       "      <td>1900</td>\n",
       "      <td>Summer</td>\n",
       "      <td>Paris</td>\n",
       "      <td>Tug-Of-War</td>\n",
       "      <td>Tug-Of-War Men's Tug-Of-War</td>\n",
       "      <td>Gold</td>\n",
       "    </tr>\n",
       "    <tr>\n",
       "      <th>4</th>\n",
       "      <td>5</td>\n",
       "      <td>Christine Jacoba Aaftink</td>\n",
       "      <td>F</td>\n",
       "      <td>21.0</td>\n",
       "      <td>185.0</td>\n",
       "      <td>82.0</td>\n",
       "      <td>Netherlands</td>\n",
       "      <td>NED</td>\n",
       "      <td>1988 Winter</td>\n",
       "      <td>1988</td>\n",
       "      <td>Winter</td>\n",
       "      <td>Calgary</td>\n",
       "      <td>Speed Skating</td>\n",
       "      <td>Speed Skating Women's 500 metres</td>\n",
       "      <td>NaN</td>\n",
       "    </tr>\n",
       "  </tbody>\n",
       "</table>\n",
       "</div>"
      ],
      "text/plain": [
       "   ID                      Name Sex   Age  Height  Weight            Team  \\\n",
       "0   1                 A Dijiang   M  24.0   180.0    80.0           China   \n",
       "1   2                  A Lamusi   M  23.0   170.0    60.0           China   \n",
       "2   3       Gunnar Nielsen Aaby   M  24.0     NaN     NaN         Denmark   \n",
       "3   4      Edgar Lindenau Aabye   M  34.0     NaN     NaN  Denmark/Sweden   \n",
       "4   5  Christine Jacoba Aaftink   F  21.0   185.0    82.0     Netherlands   \n",
       "\n",
       "   NOC        Games  Year  Season       City          Sport  \\\n",
       "0  CHN  1992 Summer  1992  Summer  Barcelona     Basketball   \n",
       "1  CHN  2012 Summer  2012  Summer     London           Judo   \n",
       "2  DEN  1920 Summer  1920  Summer  Antwerpen       Football   \n",
       "3  DEN  1900 Summer  1900  Summer      Paris     Tug-Of-War   \n",
       "4  NED  1988 Winter  1988  Winter    Calgary  Speed Skating   \n",
       "\n",
       "                              Event Medal  \n",
       "0       Basketball Men's Basketball   NaN  \n",
       "1      Judo Men's Extra-Lightweight   NaN  \n",
       "2           Football Men's Football   NaN  \n",
       "3       Tug-Of-War Men's Tug-Of-War  Gold  \n",
       "4  Speed Skating Women's 500 metres   NaN  "
      ]
     },
     "execution_count": 4,
     "metadata": {},
     "output_type": "execute_result"
    }
   ],
   "source": [
    "df.head()"
   ]
  },
  {
   "cell_type": "code",
   "execution_count": 5,
   "id": "0def4ac2-de1d-4fe4-9374-3f58d2cabf9d",
   "metadata": {},
   "outputs": [
    {
     "data": {
      "text/plain": [
       "(271116, 15)"
      ]
     },
     "execution_count": 5,
     "metadata": {},
     "output_type": "execute_result"
    }
   ],
   "source": [
    "df.shape"
   ]
  },
  {
   "cell_type": "code",
   "execution_count": 6,
   "id": "0ff8bef9-ef70-4efe-ad26-4eae6d488b8e",
   "metadata": {},
   "outputs": [
    {
     "data": {
      "text/plain": [
       "ID             0\n",
       "Name           0\n",
       "Sex            0\n",
       "Age         9474\n",
       "Height     60171\n",
       "Weight     62875\n",
       "Team           0\n",
       "NOC            0\n",
       "Games          0\n",
       "Year           0\n",
       "Season         0\n",
       "City           0\n",
       "Sport          0\n",
       "Event          0\n",
       "Medal     231333\n",
       "dtype: int64"
      ]
     },
     "execution_count": 6,
     "metadata": {},
     "output_type": "execute_result"
    }
   ],
   "source": [
    "df.isnull().sum()"
   ]
  },
  {
   "cell_type": "code",
   "execution_count": 7,
   "id": "dab8c81c-6045-42d9-a9e7-32c566dd0674",
   "metadata": {},
   "outputs": [
    {
     "data": {
      "text/html": [
       "<div>\n",
       "<style scoped>\n",
       "    .dataframe tbody tr th:only-of-type {\n",
       "        vertical-align: middle;\n",
       "    }\n",
       "\n",
       "    .dataframe tbody tr th {\n",
       "        vertical-align: top;\n",
       "    }\n",
       "\n",
       "    .dataframe thead th {\n",
       "        text-align: right;\n",
       "    }\n",
       "</style>\n",
       "<table border=\"1\" class=\"dataframe\">\n",
       "  <thead>\n",
       "    <tr style=\"text-align: right;\">\n",
       "      <th></th>\n",
       "      <th>NOC</th>\n",
       "      <th>region</th>\n",
       "      <th>notes</th>\n",
       "    </tr>\n",
       "  </thead>\n",
       "  <tbody>\n",
       "    <tr>\n",
       "      <th>0</th>\n",
       "      <td>AFG</td>\n",
       "      <td>Afghanistan</td>\n",
       "      <td>NaN</td>\n",
       "    </tr>\n",
       "    <tr>\n",
       "      <th>1</th>\n",
       "      <td>AHO</td>\n",
       "      <td>Curacao</td>\n",
       "      <td>Netherlands Antilles</td>\n",
       "    </tr>\n",
       "    <tr>\n",
       "      <th>2</th>\n",
       "      <td>ALB</td>\n",
       "      <td>Albania</td>\n",
       "      <td>NaN</td>\n",
       "    </tr>\n",
       "    <tr>\n",
       "      <th>3</th>\n",
       "      <td>ALG</td>\n",
       "      <td>Algeria</td>\n",
       "      <td>NaN</td>\n",
       "    </tr>\n",
       "    <tr>\n",
       "      <th>4</th>\n",
       "      <td>AND</td>\n",
       "      <td>Andorra</td>\n",
       "      <td>NaN</td>\n",
       "    </tr>\n",
       "  </tbody>\n",
       "</table>\n",
       "</div>"
      ],
      "text/plain": [
       "   NOC       region                 notes\n",
       "0  AFG  Afghanistan                   NaN\n",
       "1  AHO      Curacao  Netherlands Antilles\n",
       "2  ALB      Albania                   NaN\n",
       "3  ALG      Algeria                   NaN\n",
       "4  AND      Andorra                   NaN"
      ]
     },
     "execution_count": 7,
     "metadata": {},
     "output_type": "execute_result"
    }
   ],
   "source": [
    "df1.head()"
   ]
  },
  {
   "cell_type": "code",
   "execution_count": 8,
   "id": "3733ab5e-89f6-49e6-a5f6-fcd2ac1c69ae",
   "metadata": {},
   "outputs": [
    {
     "data": {
      "text/plain": [
       "(230, 3)"
      ]
     },
     "execution_count": 8,
     "metadata": {},
     "output_type": "execute_result"
    }
   ],
   "source": [
    "df1.shape"
   ]
  },
  {
   "cell_type": "code",
   "execution_count": 9,
   "id": "f9459f7a-fba5-4a7f-ae5f-9dafc6828daa",
   "metadata": {},
   "outputs": [
    {
     "data": {
      "text/plain": [
       "NOC         0\n",
       "region      3\n",
       "notes     209\n",
       "dtype: int64"
      ]
     },
     "execution_count": 9,
     "metadata": {},
     "output_type": "execute_result"
    }
   ],
   "source": [
    "df1.isnull().sum()"
   ]
  },
  {
   "cell_type": "code",
   "execution_count": 10,
   "id": "99c4a692-1332-4382-af33-8a263540a5fe",
   "metadata": {},
   "outputs": [],
   "source": [
    "def filter(x):\n",
    "    if x == 'Gold' or x == 'Silver' or x =='Bronze':\n",
    "        return 1\n",
    "    else:\n",
    "        return 0"
   ]
  },
  {
   "cell_type": "code",
   "execution_count": 11,
   "id": "4430cd9c-a20e-4df6-8959-0748c6184190",
   "metadata": {},
   "outputs": [],
   "source": [
    "df['medalist'] = df['Medal'].apply(filter)\n"
   ]
  },
  {
   "cell_type": "code",
   "execution_count": 12,
   "id": "79c4bbfc-52fb-48e6-ab54-2d889c0427c7",
   "metadata": {},
   "outputs": [
    {
     "data": {
      "text/html": [
       "<div>\n",
       "<style scoped>\n",
       "    .dataframe tbody tr th:only-of-type {\n",
       "        vertical-align: middle;\n",
       "    }\n",
       "\n",
       "    .dataframe tbody tr th {\n",
       "        vertical-align: top;\n",
       "    }\n",
       "\n",
       "    .dataframe thead th {\n",
       "        text-align: right;\n",
       "    }\n",
       "</style>\n",
       "<table border=\"1\" class=\"dataframe\">\n",
       "  <thead>\n",
       "    <tr style=\"text-align: right;\">\n",
       "      <th></th>\n",
       "      <th>ID</th>\n",
       "      <th>Name</th>\n",
       "      <th>Sex</th>\n",
       "      <th>Age</th>\n",
       "      <th>Height</th>\n",
       "      <th>Weight</th>\n",
       "      <th>Team</th>\n",
       "      <th>NOC</th>\n",
       "      <th>Games</th>\n",
       "      <th>Year</th>\n",
       "      <th>Season</th>\n",
       "      <th>City</th>\n",
       "      <th>Sport</th>\n",
       "      <th>Event</th>\n",
       "      <th>Medal</th>\n",
       "      <th>medalist</th>\n",
       "    </tr>\n",
       "  </thead>\n",
       "  <tbody>\n",
       "    <tr>\n",
       "      <th>0</th>\n",
       "      <td>1</td>\n",
       "      <td>A Dijiang</td>\n",
       "      <td>M</td>\n",
       "      <td>24.0</td>\n",
       "      <td>180.0</td>\n",
       "      <td>80.0</td>\n",
       "      <td>China</td>\n",
       "      <td>CHN</td>\n",
       "      <td>1992 Summer</td>\n",
       "      <td>1992</td>\n",
       "      <td>Summer</td>\n",
       "      <td>Barcelona</td>\n",
       "      <td>Basketball</td>\n",
       "      <td>Basketball Men's Basketball</td>\n",
       "      <td>NaN</td>\n",
       "      <td>0</td>\n",
       "    </tr>\n",
       "    <tr>\n",
       "      <th>1</th>\n",
       "      <td>2</td>\n",
       "      <td>A Lamusi</td>\n",
       "      <td>M</td>\n",
       "      <td>23.0</td>\n",
       "      <td>170.0</td>\n",
       "      <td>60.0</td>\n",
       "      <td>China</td>\n",
       "      <td>CHN</td>\n",
       "      <td>2012 Summer</td>\n",
       "      <td>2012</td>\n",
       "      <td>Summer</td>\n",
       "      <td>London</td>\n",
       "      <td>Judo</td>\n",
       "      <td>Judo Men's Extra-Lightweight</td>\n",
       "      <td>NaN</td>\n",
       "      <td>0</td>\n",
       "    </tr>\n",
       "    <tr>\n",
       "      <th>2</th>\n",
       "      <td>3</td>\n",
       "      <td>Gunnar Nielsen Aaby</td>\n",
       "      <td>M</td>\n",
       "      <td>24.0</td>\n",
       "      <td>NaN</td>\n",
       "      <td>NaN</td>\n",
       "      <td>Denmark</td>\n",
       "      <td>DEN</td>\n",
       "      <td>1920 Summer</td>\n",
       "      <td>1920</td>\n",
       "      <td>Summer</td>\n",
       "      <td>Antwerpen</td>\n",
       "      <td>Football</td>\n",
       "      <td>Football Men's Football</td>\n",
       "      <td>NaN</td>\n",
       "      <td>0</td>\n",
       "    </tr>\n",
       "    <tr>\n",
       "      <th>3</th>\n",
       "      <td>4</td>\n",
       "      <td>Edgar Lindenau Aabye</td>\n",
       "      <td>M</td>\n",
       "      <td>34.0</td>\n",
       "      <td>NaN</td>\n",
       "      <td>NaN</td>\n",
       "      <td>Denmark/Sweden</td>\n",
       "      <td>DEN</td>\n",
       "      <td>1900 Summer</td>\n",
       "      <td>1900</td>\n",
       "      <td>Summer</td>\n",
       "      <td>Paris</td>\n",
       "      <td>Tug-Of-War</td>\n",
       "      <td>Tug-Of-War Men's Tug-Of-War</td>\n",
       "      <td>Gold</td>\n",
       "      <td>1</td>\n",
       "    </tr>\n",
       "    <tr>\n",
       "      <th>4</th>\n",
       "      <td>5</td>\n",
       "      <td>Christine Jacoba Aaftink</td>\n",
       "      <td>F</td>\n",
       "      <td>21.0</td>\n",
       "      <td>185.0</td>\n",
       "      <td>82.0</td>\n",
       "      <td>Netherlands</td>\n",
       "      <td>NED</td>\n",
       "      <td>1988 Winter</td>\n",
       "      <td>1988</td>\n",
       "      <td>Winter</td>\n",
       "      <td>Calgary</td>\n",
       "      <td>Speed Skating</td>\n",
       "      <td>Speed Skating Women's 500 metres</td>\n",
       "      <td>NaN</td>\n",
       "      <td>0</td>\n",
       "    </tr>\n",
       "  </tbody>\n",
       "</table>\n",
       "</div>"
      ],
      "text/plain": [
       "   ID                      Name Sex   Age  Height  Weight            Team  \\\n",
       "0   1                 A Dijiang   M  24.0   180.0    80.0           China   \n",
       "1   2                  A Lamusi   M  23.0   170.0    60.0           China   \n",
       "2   3       Gunnar Nielsen Aaby   M  24.0     NaN     NaN         Denmark   \n",
       "3   4      Edgar Lindenau Aabye   M  34.0     NaN     NaN  Denmark/Sweden   \n",
       "4   5  Christine Jacoba Aaftink   F  21.0   185.0    82.0     Netherlands   \n",
       "\n",
       "   NOC        Games  Year  Season       City          Sport  \\\n",
       "0  CHN  1992 Summer  1992  Summer  Barcelona     Basketball   \n",
       "1  CHN  2012 Summer  2012  Summer     London           Judo   \n",
       "2  DEN  1920 Summer  1920  Summer  Antwerpen       Football   \n",
       "3  DEN  1900 Summer  1900  Summer      Paris     Tug-Of-War   \n",
       "4  NED  1988 Winter  1988  Winter    Calgary  Speed Skating   \n",
       "\n",
       "                              Event Medal  medalist  \n",
       "0       Basketball Men's Basketball   NaN         0  \n",
       "1      Judo Men's Extra-Lightweight   NaN         0  \n",
       "2           Football Men's Football   NaN         0  \n",
       "3       Tug-Of-War Men's Tug-Of-War  Gold         1  \n",
       "4  Speed Skating Women's 500 metres   NaN         0  "
      ]
     },
     "execution_count": 12,
     "metadata": {},
     "output_type": "execute_result"
    }
   ],
   "source": [
    "df.head()"
   ]
  },
  {
   "cell_type": "code",
   "execution_count": 13,
   "id": "6adfa229-188a-4805-be09-942e1cbfd557",
   "metadata": {},
   "outputs": [],
   "source": [
    "df['BMI'] = round((df['Weight'] * 0.45359237) / ((df['Height'] / 100) ** 2), 1)"
   ]
  },
  {
   "cell_type": "code",
   "execution_count": 14,
   "id": "dc8bd9ec-3034-441d-a4f6-96b9b73e80fc",
   "metadata": {},
   "outputs": [
    {
     "data": {
      "text/html": [
       "<div>\n",
       "<style scoped>\n",
       "    .dataframe tbody tr th:only-of-type {\n",
       "        vertical-align: middle;\n",
       "    }\n",
       "\n",
       "    .dataframe tbody tr th {\n",
       "        vertical-align: top;\n",
       "    }\n",
       "\n",
       "    .dataframe thead th {\n",
       "        text-align: right;\n",
       "    }\n",
       "</style>\n",
       "<table border=\"1\" class=\"dataframe\">\n",
       "  <thead>\n",
       "    <tr style=\"text-align: right;\">\n",
       "      <th></th>\n",
       "      <th>ID</th>\n",
       "      <th>Name</th>\n",
       "      <th>Sex</th>\n",
       "      <th>Age</th>\n",
       "      <th>Height</th>\n",
       "      <th>Weight</th>\n",
       "      <th>Team</th>\n",
       "      <th>NOC</th>\n",
       "      <th>Games</th>\n",
       "      <th>Year</th>\n",
       "      <th>Season</th>\n",
       "      <th>City</th>\n",
       "      <th>Sport</th>\n",
       "      <th>Event</th>\n",
       "      <th>Medal</th>\n",
       "      <th>medalist</th>\n",
       "      <th>BMI</th>\n",
       "    </tr>\n",
       "  </thead>\n",
       "  <tbody>\n",
       "    <tr>\n",
       "      <th>0</th>\n",
       "      <td>1</td>\n",
       "      <td>A Dijiang</td>\n",
       "      <td>M</td>\n",
       "      <td>24.0</td>\n",
       "      <td>180.0</td>\n",
       "      <td>80.0</td>\n",
       "      <td>China</td>\n",
       "      <td>CHN</td>\n",
       "      <td>1992 Summer</td>\n",
       "      <td>1992</td>\n",
       "      <td>Summer</td>\n",
       "      <td>Barcelona</td>\n",
       "      <td>Basketball</td>\n",
       "      <td>Basketball Men's Basketball</td>\n",
       "      <td>NaN</td>\n",
       "      <td>0</td>\n",
       "      <td>11.2</td>\n",
       "    </tr>\n",
       "    <tr>\n",
       "      <th>1</th>\n",
       "      <td>2</td>\n",
       "      <td>A Lamusi</td>\n",
       "      <td>M</td>\n",
       "      <td>23.0</td>\n",
       "      <td>170.0</td>\n",
       "      <td>60.0</td>\n",
       "      <td>China</td>\n",
       "      <td>CHN</td>\n",
       "      <td>2012 Summer</td>\n",
       "      <td>2012</td>\n",
       "      <td>Summer</td>\n",
       "      <td>London</td>\n",
       "      <td>Judo</td>\n",
       "      <td>Judo Men's Extra-Lightweight</td>\n",
       "      <td>NaN</td>\n",
       "      <td>0</td>\n",
       "      <td>9.4</td>\n",
       "    </tr>\n",
       "    <tr>\n",
       "      <th>2</th>\n",
       "      <td>3</td>\n",
       "      <td>Gunnar Nielsen Aaby</td>\n",
       "      <td>M</td>\n",
       "      <td>24.0</td>\n",
       "      <td>NaN</td>\n",
       "      <td>NaN</td>\n",
       "      <td>Denmark</td>\n",
       "      <td>DEN</td>\n",
       "      <td>1920 Summer</td>\n",
       "      <td>1920</td>\n",
       "      <td>Summer</td>\n",
       "      <td>Antwerpen</td>\n",
       "      <td>Football</td>\n",
       "      <td>Football Men's Football</td>\n",
       "      <td>NaN</td>\n",
       "      <td>0</td>\n",
       "      <td>NaN</td>\n",
       "    </tr>\n",
       "    <tr>\n",
       "      <th>3</th>\n",
       "      <td>4</td>\n",
       "      <td>Edgar Lindenau Aabye</td>\n",
       "      <td>M</td>\n",
       "      <td>34.0</td>\n",
       "      <td>NaN</td>\n",
       "      <td>NaN</td>\n",
       "      <td>Denmark/Sweden</td>\n",
       "      <td>DEN</td>\n",
       "      <td>1900 Summer</td>\n",
       "      <td>1900</td>\n",
       "      <td>Summer</td>\n",
       "      <td>Paris</td>\n",
       "      <td>Tug-Of-War</td>\n",
       "      <td>Tug-Of-War Men's Tug-Of-War</td>\n",
       "      <td>Gold</td>\n",
       "      <td>1</td>\n",
       "      <td>NaN</td>\n",
       "    </tr>\n",
       "    <tr>\n",
       "      <th>4</th>\n",
       "      <td>5</td>\n",
       "      <td>Christine Jacoba Aaftink</td>\n",
       "      <td>F</td>\n",
       "      <td>21.0</td>\n",
       "      <td>185.0</td>\n",
       "      <td>82.0</td>\n",
       "      <td>Netherlands</td>\n",
       "      <td>NED</td>\n",
       "      <td>1988 Winter</td>\n",
       "      <td>1988</td>\n",
       "      <td>Winter</td>\n",
       "      <td>Calgary</td>\n",
       "      <td>Speed Skating</td>\n",
       "      <td>Speed Skating Women's 500 metres</td>\n",
       "      <td>NaN</td>\n",
       "      <td>0</td>\n",
       "      <td>10.9</td>\n",
       "    </tr>\n",
       "  </tbody>\n",
       "</table>\n",
       "</div>"
      ],
      "text/plain": [
       "   ID                      Name Sex   Age  Height  Weight            Team  \\\n",
       "0   1                 A Dijiang   M  24.0   180.0    80.0           China   \n",
       "1   2                  A Lamusi   M  23.0   170.0    60.0           China   \n",
       "2   3       Gunnar Nielsen Aaby   M  24.0     NaN     NaN         Denmark   \n",
       "3   4      Edgar Lindenau Aabye   M  34.0     NaN     NaN  Denmark/Sweden   \n",
       "4   5  Christine Jacoba Aaftink   F  21.0   185.0    82.0     Netherlands   \n",
       "\n",
       "   NOC        Games  Year  Season       City          Sport  \\\n",
       "0  CHN  1992 Summer  1992  Summer  Barcelona     Basketball   \n",
       "1  CHN  2012 Summer  2012  Summer     London           Judo   \n",
       "2  DEN  1920 Summer  1920  Summer  Antwerpen       Football   \n",
       "3  DEN  1900 Summer  1900  Summer      Paris     Tug-Of-War   \n",
       "4  NED  1988 Winter  1988  Winter    Calgary  Speed Skating   \n",
       "\n",
       "                              Event Medal  medalist   BMI  \n",
       "0       Basketball Men's Basketball   NaN         0  11.2  \n",
       "1      Judo Men's Extra-Lightweight   NaN         0   9.4  \n",
       "2           Football Men's Football   NaN         0   NaN  \n",
       "3       Tug-Of-War Men's Tug-Of-War  Gold         1   NaN  \n",
       "4  Speed Skating Women's 500 metres   NaN         0  10.9  "
      ]
     },
     "execution_count": 14,
     "metadata": {},
     "output_type": "execute_result"
    }
   ],
   "source": [
    "df.head()"
   ]
  },
  {
   "cell_type": "markdown",
   "id": "ea6134c5-554a-4272-886c-2459de55fea9",
   "metadata": {},
   "source": [
    "## Lets split our data"
   ]
  },
  {
   "cell_type": "code",
   "execution_count": 15,
   "id": "96625189-1da1-4c84-aa94-8e08d1fe7467",
   "metadata": {},
   "outputs": [],
   "source": [
    "# train/validate/test split\n",
    "train_validate, test = train_test_split(df, test_size=.2, random_state=123)\n",
    "train, validate = train_test_split(train_validate, test_size=.3, random_state=123)"
   ]
  },
  {
   "cell_type": "markdown",
   "id": "a2f1da72-442a-46e0-b45e-d9b21cedaa99",
   "metadata": {
    "tags": []
   },
   "source": [
    "## Lets look at the nulls in the first dataframe"
   ]
  },
  {
   "cell_type": "code",
   "execution_count": 16,
   "id": "26ed9ca2-26dd-41cf-afc1-60dec2738d10",
   "metadata": {},
   "outputs": [
    {
     "data": {
      "text/plain": [
       "(271116, 17)"
      ]
     },
     "execution_count": 16,
     "metadata": {},
     "output_type": "execute_result"
    }
   ],
   "source": [
    "df.shape"
   ]
  },
  {
   "cell_type": "code",
   "execution_count": 17,
   "id": "3b9a5d29-245d-4778-b2de-0b0b5c0e3e35",
   "metadata": {},
   "outputs": [
    {
     "data": {
      "text/plain": [
       "ID               0\n",
       "Name             0\n",
       "Sex              0\n",
       "Age           9474\n",
       "Height       60171\n",
       "Weight       62875\n",
       "Team             0\n",
       "NOC              0\n",
       "Games            0\n",
       "Year             0\n",
       "Season           0\n",
       "City             0\n",
       "Sport            0\n",
       "Event            0\n",
       "Medal       231333\n",
       "medalist         0\n",
       "BMI          64263\n",
       "dtype: int64"
      ]
     },
     "execution_count": 17,
     "metadata": {},
     "output_type": "execute_result"
    }
   ],
   "source": [
    "df.isnull().sum()"
   ]
  },
  {
   "cell_type": "markdown",
   "id": "ec5c5a0b-b856-4efb-b114-69c0bc739c60",
   "metadata": {},
   "source": [
    "### lets look at age first"
   ]
  },
  {
   "cell_type": "code",
   "execution_count": 18,
   "id": "65221c16-4841-4604-b5f5-56b200c7e5ce",
   "metadata": {},
   "outputs": [
    {
     "data": {
      "text/plain": [
       "count    261642.000000\n",
       "mean         25.556898\n",
       "std           6.393561\n",
       "min          10.000000\n",
       "25%          21.000000\n",
       "50%          24.000000\n",
       "75%          28.000000\n",
       "max          97.000000\n",
       "Name: Age, dtype: float64"
      ]
     },
     "execution_count": 18,
     "metadata": {},
     "output_type": "execute_result"
    }
   ],
   "source": [
    "df.Age.describe()"
   ]
  },
  {
   "cell_type": "markdown",
   "id": "2064f73e-b250-4fbe-a52e-6a771c914ea2",
   "metadata": {},
   "source": [
    "## it appears there are likely some outliers, however it is likely safe to impute the nulls with the mean "
   ]
  },
  {
   "cell_type": "code",
   "execution_count": 19,
   "id": "c22c3594-c2d1-4512-be4a-56d91e2de4e7",
   "metadata": {},
   "outputs": [],
   "source": [
    "imputer = SimpleImputer(strategy='mean')\n",
    "imputer = imputer.fit(train[['Age']])\n",
    "train[['Age']] = imputer.transform(train[['Age']])\n",
    "\n",
    "validate[['Age']] = imputer.transform(validate[['Age']])\n",
    "\n",
    "test[['Age']] = imputer.transform(test[['Age']])"
   ]
  },
  {
   "cell_type": "code",
   "execution_count": 20,
   "id": "2e9f7114-31a3-4ff2-8127-8aa7ecb72f39",
   "metadata": {},
   "outputs": [
    {
     "data": {
      "text/plain": [
       "ID               0\n",
       "Name             0\n",
       "Sex              0\n",
       "Age              0\n",
       "Height       33482\n",
       "Weight       35051\n",
       "Team             0\n",
       "NOC              0\n",
       "Games            0\n",
       "Year             0\n",
       "Season           0\n",
       "City             0\n",
       "Sport            0\n",
       "Event            0\n",
       "Medal       129589\n",
       "medalist         0\n",
       "BMI          35818\n",
       "dtype: int64"
      ]
     },
     "execution_count": 20,
     "metadata": {},
     "output_type": "execute_result"
    }
   ],
   "source": [
    "train.isnull().sum()"
   ]
  },
  {
   "cell_type": "code",
   "execution_count": 21,
   "id": "fd87c96c-f7f5-4608-8a17-c073bac60059",
   "metadata": {},
   "outputs": [
    {
     "data": {
      "text/plain": [
       "count    151824.000000\n",
       "mean         25.554600\n",
       "std           6.283664\n",
       "min          11.000000\n",
       "25%          22.000000\n",
       "50%          25.000000\n",
       "75%          28.000000\n",
       "max          88.000000\n",
       "Name: Age, dtype: float64"
      ]
     },
     "execution_count": 21,
     "metadata": {},
     "output_type": "execute_result"
    }
   ],
   "source": [
    "train.Age.describe()"
   ]
  },
  {
   "cell_type": "markdown",
   "id": "df734ee0-ec8c-43d3-89f8-965023129251",
   "metadata": {},
   "source": [
    "## Lets look at the next nulls \n"
   ]
  },
  {
   "cell_type": "code",
   "execution_count": 22,
   "id": "e9545f23-7637-47ce-9638-1c8721a9ad14",
   "metadata": {},
   "outputs": [
    {
     "data": {
      "text/plain": [
       "ID               0\n",
       "Name             0\n",
       "Sex              0\n",
       "Age              0\n",
       "Height       33482\n",
       "Weight       35051\n",
       "Team             0\n",
       "NOC              0\n",
       "Games            0\n",
       "Year             0\n",
       "Season           0\n",
       "City             0\n",
       "Sport            0\n",
       "Event            0\n",
       "Medal       129589\n",
       "medalist         0\n",
       "BMI          35818\n",
       "dtype: int64"
      ]
     },
     "execution_count": 22,
     "metadata": {},
     "output_type": "execute_result"
    }
   ],
   "source": [
    "train.isnull().sum()"
   ]
  },
  {
   "cell_type": "markdown",
   "id": "a42d64b5-e8dd-4204-9738-979a63ba3c54",
   "metadata": {},
   "source": [
    "## I believe that height and weight nulls may be related to the year they played, so lets try that \n"
   ]
  },
  {
   "cell_type": "code",
   "execution_count": 23,
   "id": "f48fc8a1-2eb1-47f1-90f3-300a2743963f",
   "metadata": {},
   "outputs": [
    {
     "name": "stdout",
     "output_type": "stream",
     "text": [
      "<class 'pandas.core.frame.DataFrame'>\n",
      "Int64Index: 151824 entries, 177199 to 175071\n",
      "Data columns (total 17 columns):\n",
      " #   Column    Non-Null Count   Dtype  \n",
      "---  ------    --------------   -----  \n",
      " 0   ID        151824 non-null  int64  \n",
      " 1   Name      151824 non-null  object \n",
      " 2   Sex       151824 non-null  object \n",
      " 3   Age       151824 non-null  float64\n",
      " 4   Height    118342 non-null  float64\n",
      " 5   Weight    116773 non-null  float64\n",
      " 6   Team      151824 non-null  object \n",
      " 7   NOC       151824 non-null  object \n",
      " 8   Games     151824 non-null  object \n",
      " 9   Year      151824 non-null  int64  \n",
      " 10  Season    151824 non-null  object \n",
      " 11  City      151824 non-null  object \n",
      " 12  Sport     151824 non-null  object \n",
      " 13  Event     151824 non-null  object \n",
      " 14  Medal     22235 non-null   object \n",
      " 15  medalist  151824 non-null  int64  \n",
      " 16  BMI       116006 non-null  float64\n",
      "dtypes: float64(4), int64(3), object(10)\n",
      "memory usage: 20.8+ MB\n"
     ]
    }
   ],
   "source": [
    "train.info()"
   ]
  },
  {
   "cell_type": "code",
   "execution_count": 24,
   "id": "d8ca2286-2916-4ae1-9b2b-cd57b8c2d3c2",
   "metadata": {},
   "outputs": [
    {
     "data": {
      "text/plain": [
       "1992    9140\n",
       "1988    8245\n",
       "2000    7906\n",
       "2016    7702\n",
       "1996    7672\n",
       "2008    7612\n",
       "2004    7536\n",
       "2012    7218\n",
       "1972    6808\n",
       "1984    6419\n",
       "1976    5942\n",
       "1968    5825\n",
       "1964    5259\n",
       "1960    5248\n",
       "1952    5212\n",
       "1980    5038\n",
       "1936    4133\n",
       "1948    4107\n",
       "1956    3596\n",
       "1924    3145\n",
       "1928    3124\n",
       "2014    2741\n",
       "2010    2463\n",
       "2006    2426\n",
       "1920    2395\n",
       "2002    2320\n",
       "1912    2253\n",
       "1998    2038\n",
       "1932    1882\n",
       "1994    1747\n",
       "1908    1743\n",
       "1900    1011\n",
       "1906     976\n",
       "1904     725\n",
       "1896     217\n",
       "Name: Year, dtype: int64"
      ]
     },
     "execution_count": 24,
     "metadata": {},
     "output_type": "execute_result"
    }
   ],
   "source": [
    "train.Year.value_counts()"
   ]
  },
  {
   "cell_type": "code",
   "execution_count": 25,
   "id": "8344ded7-338a-45d0-ab4d-660f6f1d07ba",
   "metadata": {},
   "outputs": [
    {
     "data": {
      "text/plain": [
       "ID              0\n",
       "Name            0\n",
       "Sex             0\n",
       "Age             0\n",
       "Height       5696\n",
       "Weight       6078\n",
       "Team            0\n",
       "NOC             0\n",
       "Games           0\n",
       "Year            0\n",
       "Season          0\n",
       "City            0\n",
       "Sport           0\n",
       "Event           0\n",
       "Medal       96757\n",
       "medalist        0\n",
       "BMI          6376\n",
       "dtype: int64"
      ]
     },
     "execution_count": 25,
     "metadata": {},
     "output_type": "execute_result"
    }
   ],
   "source": [
    "train[(train['Year'] > 1960)].isnull().sum()"
   ]
  },
  {
   "cell_type": "markdown",
   "id": "5eb93e99-fa4d-43a3-8dd8-4ae7183f5eea",
   "metadata": {},
   "source": [
    "## It appears some where between 1950 and 1960 they started recording the height and weight more frequently "
   ]
  },
  {
   "cell_type": "markdown",
   "id": "60d2fdda-9744-44b8-85d7-b96481fde940",
   "metadata": {},
   "source": [
    "## Lets drop the games before the year 1960, as we don't have much data we really cant afford to have a null in the weight and height of the athlete performing "
   ]
  },
  {
   "cell_type": "code",
   "execution_count": 26,
   "id": "339c01b2-6002-4910-bcdc-8455741325d7",
   "metadata": {},
   "outputs": [],
   "source": [
    "train = train[(train['Year'] > 1960)]\n",
    "validate = validate[(validate['Year'] > 1960)]\n",
    "test = test[(test['Year'] > 1960)]"
   ]
  },
  {
   "cell_type": "code",
   "execution_count": 27,
   "id": "34373a6f-ce41-402c-b12d-4e101aab1c05",
   "metadata": {},
   "outputs": [
    {
     "data": {
      "text/plain": [
       "ID              0\n",
       "Name            0\n",
       "Sex             0\n",
       "Age             0\n",
       "Height       5696\n",
       "Weight       6078\n",
       "Team            0\n",
       "NOC             0\n",
       "Games           0\n",
       "Year            0\n",
       "Season          0\n",
       "City            0\n",
       "Sport           0\n",
       "Event           0\n",
       "Medal       96757\n",
       "medalist        0\n",
       "BMI          6376\n",
       "dtype: int64"
      ]
     },
     "execution_count": 27,
     "metadata": {},
     "output_type": "execute_result"
    }
   ],
   "source": [
    "train.isnull().sum()"
   ]
  },
  {
   "cell_type": "code",
   "execution_count": 28,
   "id": "e9292ac6-3511-4a64-9196-c77b3fce68a6",
   "metadata": {},
   "outputs": [
    {
     "data": {
      "text/plain": [
       "(112057, 17)"
      ]
     },
     "execution_count": 28,
     "metadata": {},
     "output_type": "execute_result"
    }
   ],
   "source": [
    "train.shape"
   ]
  },
  {
   "cell_type": "markdown",
   "id": "f0b5c37f-a0bf-491e-a8ff-c541a2ac76a2",
   "metadata": {},
   "source": [
    "## Lets drop the remainin nulls in Height, Weight, and BMI"
   ]
  },
  {
   "cell_type": "code",
   "execution_count": 29,
   "id": "64bd74ad-197f-41cd-a3f2-c9245e5c0c70",
   "metadata": {},
   "outputs": [],
   "source": [
    "train.Medal = train.Medal.fillna('None')\n",
    "validate.Medal = validate.Medal.fillna('None')\n",
    "test.Medal = test.Medal.fillna('None')\n"
   ]
  },
  {
   "cell_type": "code",
   "execution_count": 30,
   "id": "8f0a07dc-c8d5-49b8-8f85-b1f3eb9d7a06",
   "metadata": {},
   "outputs": [],
   "source": [
    "train = train.dropna()\n",
    "validate = validate.dropna()\n",
    "test = test.dropna()"
   ]
  },
  {
   "cell_type": "code",
   "execution_count": 31,
   "id": "b253c1c5-f957-43e2-bdfb-a01dea851595",
   "metadata": {},
   "outputs": [
    {
     "data": {
      "text/plain": [
       "ID          0\n",
       "Name        0\n",
       "Sex         0\n",
       "Age         0\n",
       "Height      0\n",
       "Weight      0\n",
       "Team        0\n",
       "NOC         0\n",
       "Games       0\n",
       "Year        0\n",
       "Season      0\n",
       "City        0\n",
       "Sport       0\n",
       "Event       0\n",
       "Medal       0\n",
       "medalist    0\n",
       "BMI         0\n",
       "dtype: int64"
      ]
     },
     "execution_count": 31,
     "metadata": {},
     "output_type": "execute_result"
    }
   ],
   "source": [
    "train.isnull().sum()"
   ]
  },
  {
   "cell_type": "code",
   "execution_count": 32,
   "id": "52d8d804-defb-41d6-a140-cc8a802f6cd4",
   "metadata": {},
   "outputs": [],
   "source": [
    "# train['medalist'] = train['Medal'].apply(filter)\n",
    "# validate['medalist'] = validate['Medal'].apply(filter)\n",
    "# test['medalist'] = test['Medal'].apply(filter)\n"
   ]
  },
  {
   "cell_type": "code",
   "execution_count": 33,
   "id": "6e171711-82c7-4f9b-86e0-c2a1144d2883",
   "metadata": {},
   "outputs": [
    {
     "data": {
      "text/plain": [
       "ID          0\n",
       "Name        0\n",
       "Sex         0\n",
       "Age         0\n",
       "Height      0\n",
       "Weight      0\n",
       "Team        0\n",
       "NOC         0\n",
       "Games       0\n",
       "Year        0\n",
       "Season      0\n",
       "City        0\n",
       "Sport       0\n",
       "Event       0\n",
       "Medal       0\n",
       "medalist    0\n",
       "BMI         0\n",
       "dtype: int64"
      ]
     },
     "execution_count": 33,
     "metadata": {},
     "output_type": "execute_result"
    }
   ],
   "source": [
    "train.isnull().sum()"
   ]
  },
  {
   "cell_type": "code",
   "execution_count": 35,
   "id": "a82b4a5a-954f-48f8-b881-b2fef6ba36cf",
   "metadata": {},
   "outputs": [
    {
     "data": {
      "text/html": [
       "<div>\n",
       "<style scoped>\n",
       "    .dataframe tbody tr th:only-of-type {\n",
       "        vertical-align: middle;\n",
       "    }\n",
       "\n",
       "    .dataframe tbody tr th {\n",
       "        vertical-align: top;\n",
       "    }\n",
       "\n",
       "    .dataframe thead th {\n",
       "        text-align: right;\n",
       "    }\n",
       "</style>\n",
       "<table border=\"1\" class=\"dataframe\">\n",
       "  <thead>\n",
       "    <tr style=\"text-align: right;\">\n",
       "      <th></th>\n",
       "      <th>ID</th>\n",
       "      <th>Name</th>\n",
       "      <th>Sex</th>\n",
       "      <th>Age</th>\n",
       "      <th>Height</th>\n",
       "      <th>Weight</th>\n",
       "      <th>Team</th>\n",
       "      <th>NOC</th>\n",
       "      <th>Games</th>\n",
       "      <th>Year</th>\n",
       "      <th>Season</th>\n",
       "      <th>City</th>\n",
       "      <th>Sport</th>\n",
       "      <th>Event</th>\n",
       "      <th>Medal</th>\n",
       "      <th>medalist</th>\n",
       "      <th>BMI</th>\n",
       "    </tr>\n",
       "  </thead>\n",
       "  <tbody>\n",
       "    <tr>\n",
       "      <th>177199</th>\n",
       "      <td>89088</td>\n",
       "      <td>Michael Omondi</td>\n",
       "      <td>M</td>\n",
       "      <td>26.0</td>\n",
       "      <td>168.0</td>\n",
       "      <td>70.0</td>\n",
       "      <td>Kenya</td>\n",
       "      <td>KEN</td>\n",
       "      <td>1988 Summer</td>\n",
       "      <td>1988</td>\n",
       "      <td>Summer</td>\n",
       "      <td>Seoul</td>\n",
       "      <td>Hockey</td>\n",
       "      <td>Hockey Men's Hockey</td>\n",
       "      <td>None</td>\n",
       "      <td>0</td>\n",
       "      <td>11.2</td>\n",
       "    </tr>\n",
       "    <tr>\n",
       "      <th>200426</th>\n",
       "      <td>100640</td>\n",
       "      <td>Hana n</td>\n",
       "      <td>F</td>\n",
       "      <td>19.0</td>\n",
       "      <td>157.0</td>\n",
       "      <td>40.0</td>\n",
       "      <td>Czechoslovakia</td>\n",
       "      <td>TCH</td>\n",
       "      <td>1988 Summer</td>\n",
       "      <td>1988</td>\n",
       "      <td>Summer</td>\n",
       "      <td>Seoul</td>\n",
       "      <td>Gymnastics</td>\n",
       "      <td>Gymnastics Women's Balance Beam</td>\n",
       "      <td>None</td>\n",
       "      <td>0</td>\n",
       "      <td>7.4</td>\n",
       "    </tr>\n",
       "    <tr>\n",
       "      <th>264622</th>\n",
       "      <td>132418</td>\n",
       "      <td>Yan Wing-Shean</td>\n",
       "      <td>M</td>\n",
       "      <td>22.0</td>\n",
       "      <td>173.0</td>\n",
       "      <td>72.0</td>\n",
       "      <td>Chinese Taipei</td>\n",
       "      <td>TPE</td>\n",
       "      <td>1988 Summer</td>\n",
       "      <td>1988</td>\n",
       "      <td>Summer</td>\n",
       "      <td>Seoul</td>\n",
       "      <td>Fencing</td>\n",
       "      <td>Fencing Men's Foil, Individual</td>\n",
       "      <td>None</td>\n",
       "      <td>0</td>\n",
       "      <td>10.9</td>\n",
       "    </tr>\n",
       "    <tr>\n",
       "      <th>42842</th>\n",
       "      <td>22107</td>\n",
       "      <td>Beatrice Nicoleta Coad-Claru</td>\n",
       "      <td>F</td>\n",
       "      <td>16.0</td>\n",
       "      <td>170.0</td>\n",
       "      <td>64.0</td>\n",
       "      <td>Romania</td>\n",
       "      <td>ROU</td>\n",
       "      <td>1992 Summer</td>\n",
       "      <td>1992</td>\n",
       "      <td>Summer</td>\n",
       "      <td>Barcelona</td>\n",
       "      <td>Swimming</td>\n",
       "      <td>Swimming Women's 200 metres Breaststroke</td>\n",
       "      <td>None</td>\n",
       "      <td>0</td>\n",
       "      <td>10.0</td>\n",
       "    </tr>\n",
       "    <tr>\n",
       "      <th>42612</th>\n",
       "      <td>21983</td>\n",
       "      <td>Arnaud Clment</td>\n",
       "      <td>M</td>\n",
       "      <td>30.0</td>\n",
       "      <td>172.0</td>\n",
       "      <td>72.0</td>\n",
       "      <td>France-2</td>\n",
       "      <td>FRA</td>\n",
       "      <td>2008 Summer</td>\n",
       "      <td>2008</td>\n",
       "      <td>Summer</td>\n",
       "      <td>Beijing</td>\n",
       "      <td>Tennis</td>\n",
       "      <td>Tennis Men's Doubles</td>\n",
       "      <td>None</td>\n",
       "      <td>0</td>\n",
       "      <td>11.0</td>\n",
       "    </tr>\n",
       "  </tbody>\n",
       "</table>\n",
       "</div>"
      ],
      "text/plain": [
       "            ID                          Name Sex   Age  Height  Weight  \\\n",
       "177199   89088                Michael Omondi   M  26.0   168.0    70.0   \n",
       "200426  100640                        Hana n   F  19.0   157.0    40.0   \n",
       "264622  132418                Yan Wing-Shean   M  22.0   173.0    72.0   \n",
       "42842    22107  Beatrice Nicoleta Coad-Claru   F  16.0   170.0    64.0   \n",
       "42612    21983                 Arnaud Clment   M  30.0   172.0    72.0   \n",
       "\n",
       "                  Team  NOC        Games  Year  Season       City       Sport  \\\n",
       "177199           Kenya  KEN  1988 Summer  1988  Summer      Seoul      Hockey   \n",
       "200426  Czechoslovakia  TCH  1988 Summer  1988  Summer      Seoul  Gymnastics   \n",
       "264622  Chinese Taipei  TPE  1988 Summer  1988  Summer      Seoul     Fencing   \n",
       "42842          Romania  ROU  1992 Summer  1992  Summer  Barcelona    Swimming   \n",
       "42612         France-2  FRA  2008 Summer  2008  Summer    Beijing      Tennis   \n",
       "\n",
       "                                           Event Medal  medalist   BMI  \n",
       "177199                       Hockey Men's Hockey  None         0  11.2  \n",
       "200426           Gymnastics Women's Balance Beam  None         0   7.4  \n",
       "264622            Fencing Men's Foil, Individual  None         0  10.9  \n",
       "42842   Swimming Women's 200 metres Breaststroke  None         0  10.0  \n",
       "42612                       Tennis Men's Doubles  None         0  11.0  "
      ]
     },
     "execution_count": 35,
     "metadata": {},
     "output_type": "execute_result"
    }
   ],
   "source": [
    "train.head()\n"
   ]
  },
  {
   "cell_type": "code",
   "execution_count": 36,
   "id": "c8eb4a9f-2d34-423f-b8a7-93d8463c5459",
   "metadata": {},
   "outputs": [
    {
     "data": {
      "text/plain": [
       "(105681, 17)"
      ]
     },
     "execution_count": 36,
     "metadata": {},
     "output_type": "execute_result"
    }
   ],
   "source": [
    "train.shape"
   ]
  },
  {
   "cell_type": "code",
   "execution_count": 38,
   "id": "19780b6d-b3d2-4fa2-9056-66869afa5be4",
   "metadata": {},
   "outputs": [
    {
     "name": "stdout",
     "output_type": "stream",
     "text": [
      "Sex\n",
      "M    69786\n",
      "F    35895\n",
      "Name: Sex, dtype: int64\n",
      "M    66.034576\n",
      "F    33.965424\n",
      "Name: Sex, dtype: float64\n"
     ]
    },
    {
     "data": {
      "image/png": "[encoded data removed]",
      "text/plain": [
       "<Figure size 432x288 with 1 Axes>"
      ]
     },
     "metadata": {
      "needs_background": "light"
     },
     "output_type": "display_data"
    },
    {
     "name": "stdout",
     "output_type": "stream",
     "text": [
      "Team\n",
      "United States         6291\n",
      "Canada                4095\n",
      "France                3831\n",
      "Italy                 3803\n",
      "Japan                 3760\n",
      "                      ... \n",
      "Mutafo                   1\n",
      "Solos Carex              1\n",
      "India-1                  1\n",
      "Lucky Star               1\n",
      "Pousse-Moi Pas VII       1\n",
      "Name: Team, Length: 414, dtype: int64\n",
      "United States         5.952820\n",
      "Canada                3.874869\n",
      "France                3.625060\n",
      "Italy                 3.598565\n",
      "Japan                 3.557877\n",
      "                        ...   \n",
      "Mutafo                0.000946\n",
      "Solos Carex           0.000946\n",
      "India-1               0.000946\n",
      "Lucky Star            0.000946\n",
      "Pousse-Moi Pas VII    0.000946\n",
      "Name: Team, Length: 414, dtype: float64\n"
     ]
    },
    {
     "data": {
      "image/png": "[encoded data removed]",
      "text/plain": [
       "<Figure size 432x288 with 1 Axes>"
      ]
     },
     "metadata": {
      "needs_background": "light"
     },
     "output_type": "display_data"
    },
    {
     "name": "stdout",
     "output_type": "stream",
     "text": [
      "NOC\n",
      "USA    6567\n",
      "CAN    4261\n",
      "ITA    3947\n",
      "FRA    3910\n",
      "JPN    3836\n",
      "       ... \n",
      "KOS       4\n",
      "KIR       3\n",
      "TUV       2\n",
      "SSD       2\n",
      "YMD       2\n",
      "Name: NOC, Length: 219, dtype: int64\n",
      "USA    6.213984\n",
      "CAN    4.031945\n",
      "ITA    3.734825\n",
      "FRA    3.699814\n",
      "JPN    3.629792\n",
      "         ...   \n",
      "KOS    0.003785\n",
      "KIR    0.002839\n",
      "TUV    0.001892\n",
      "SSD    0.001892\n",
      "YMD    0.001892\n",
      "Name: NOC, Length: 219, dtype: float64\n"
     ]
    },
    {
     "data": {
      "image/png": "[encoded data removed]",
      "text/plain": [
       "<Figure size 432x288 with 1 Axes>"
      ]
     },
     "metadata": {
      "needs_background": "light"
     },
     "output_type": "display_data"
    },
    {
     "name": "stdout",
     "output_type": "stream",
     "text": [
      "Games\n",
      "2000 Summer    7809\n",
      "2016 Summer    7573\n",
      "2004 Summer    7509\n",
      "2008 Summer    7501\n",
      "2012 Summer    6997\n",
      "1996 Summer    6599\n",
      "1988 Summer    6542\n",
      "1992 Summer    5748\n",
      "1972 Summer    5606\n",
      "1984 Summer    4978\n",
      "1968 Summer    4717\n",
      "1976 Summer    4672\n",
      "1964 Summer    4132\n",
      "1980 Summer    3922\n",
      "2014 Winter    2612\n",
      "2010 Winter    2448\n",
      "2006 Winter    2417\n",
      "2002 Winter    2295\n",
      "1998 Winter    1986\n",
      "1994 Winter    1651\n",
      "1992 Winter    1563\n",
      "1988 Winter    1144\n",
      "1984 Winter    1071\n",
      "1968 Winter    1009\n",
      "1972 Winter     965\n",
      "1980 Winter     750\n",
      "1976 Winter     744\n",
      "1964 Winter     721\n",
      "Name: Games, dtype: int64\n",
      "2000 Summer    7.389218\n",
      "2016 Summer    7.165905\n",
      "2004 Summer    7.105345\n",
      "2008 Summer    7.097775\n",
      "2012 Summer    6.620868\n",
      "1996 Summer    6.244263\n",
      "1988 Summer    6.190327\n",
      "1992 Summer    5.439010\n",
      "1972 Summer    5.304643\n",
      "1984 Summer    4.710402\n",
      "1968 Summer    4.463432\n",
      "1976 Summer    4.420851\n",
      "1964 Summer    3.909880\n",
      "1980 Summer    3.711169\n",
      "2014 Winter    2.471589\n",
      "2010 Winter    2.316405\n",
      "2006 Winter    2.287071\n",
      "2002 Winter    2.171630\n",
      "1998 Winter    1.879240\n",
      "1994 Winter    1.562249\n",
      "1992 Winter    1.478979\n",
      "1988 Winter    1.082503\n",
      "1984 Winter    1.013427\n",
      "1968 Winter    0.954760\n",
      "1972 Winter    0.913125\n",
      "1980 Winter    0.709683\n",
      "1976 Winter    0.704005\n",
      "1964 Winter    0.682242\n",
      "Name: Games, dtype: float64\n"
     ]
    },
    {
     "data": {
      "image/png": "[encoded data removed]",
      "text/plain": [
       "<Figure size 432x288 with 1 Axes>"
      ]
     },
     "metadata": {
      "needs_background": "light"
     },
     "output_type": "display_data"
    },
    {
     "name": "stdout",
     "output_type": "stream",
     "text": [
      "Year\n",
      "2000    7809\n",
      "1988    7686\n",
      "2016    7573\n",
      "2004    7509\n",
      "2008    7501\n",
      "1992    7311\n",
      "2012    6997\n",
      "1996    6599\n",
      "1972    6571\n",
      "1984    6049\n",
      "1968    5726\n",
      "1976    5416\n",
      "1964    4853\n",
      "1980    4672\n",
      "2014    2612\n",
      "2010    2448\n",
      "2006    2417\n",
      "2002    2295\n",
      "1998    1986\n",
      "1994    1651\n",
      "Name: Year, dtype: int64\n",
      "2000    7.389218\n",
      "1988    7.272830\n",
      "2016    7.165905\n",
      "2004    7.105345\n",
      "2008    7.097775\n",
      "1992    6.917989\n",
      "2012    6.620868\n",
      "1996    6.244263\n",
      "1972    6.217769\n",
      "1984    5.723829\n",
      "1968    5.418192\n",
      "1976    5.124857\n",
      "1964    4.592122\n",
      "1980    4.420851\n",
      "2014    2.471589\n",
      "2010    2.316405\n",
      "2006    2.287071\n",
      "2002    2.171630\n",
      "1998    1.879240\n",
      "1994    1.562249\n",
      "Name: Year, dtype: float64\n"
     ]
    },
    {
     "data": {
      "image/png": "[encoded data removed]",
      "text/plain": [
       "<Figure size 432x288 with 1 Axes>"
      ]
     },
     "metadata": {
      "needs_background": "light"
     },
     "output_type": "display_data"
    },
    {
     "name": "stdout",
     "output_type": "stream",
     "text": [
      "Season\n",
      "Summer    84305\n",
      "Winter    21376\n",
      "Name: Season, dtype: int64\n",
      "Summer    79.773091\n",
      "Winter    20.226909\n",
      "Name: Season, dtype: float64\n"
     ]
    },
    {
     "data": {
      "image/png": "[encoded data removed]",
      "text/plain": [
       "<Figure size 432x288 with 1 Axes>"
      ]
     },
     "metadata": {
      "needs_background": "light"
     },
     "output_type": "display_data"
    },
    {
     "name": "stdout",
     "output_type": "stream",
     "text": [
      "City\n",
      "Sydney            7809\n",
      "Rio de Janeiro    7573\n",
      "Athina            7509\n",
      "Beijing           7501\n",
      "London            6997\n",
      "Atlanta           6599\n",
      "Seoul             6542\n",
      "Barcelona         5748\n",
      "Munich            5606\n",
      "Los Angeles       4978\n",
      "Mexico City       4717\n",
      "Montreal          4672\n",
      "Tokyo             4132\n",
      "Moskva            3922\n",
      "Sochi             2612\n",
      "Vancouver         2448\n",
      "Torino            2417\n",
      "Salt Lake City    2295\n",
      "Nagano            1986\n",
      "Lillehammer       1651\n",
      "Albertville       1563\n",
      "Innsbruck         1465\n",
      "Calgary           1144\n",
      "Sarajevo          1071\n",
      "Grenoble          1009\n",
      "Sapporo            965\n",
      "Lake Placid        750\n",
      "Name: City, dtype: int64\n",
      "Sydney            7.389218\n",
      "Rio de Janeiro    7.165905\n",
      "Athina            7.105345\n",
      "Beijing           7.097775\n",
      "London            6.620868\n",
      "Atlanta           6.244263\n",
      "Seoul             6.190327\n",
      "Barcelona         5.439010\n",
      "Munich            5.304643\n",
      "Los Angeles       4.710402\n",
      "Mexico City       4.463432\n",
      "Montreal          4.420851\n",
      "Tokyo             3.909880\n",
      "Moskva            3.711169\n",
      "Sochi             2.471589\n",
      "Vancouver         2.316405\n",
      "Torino            2.287071\n",
      "Salt Lake City    2.171630\n",
      "Nagano            1.879240\n",
      "Lillehammer       1.562249\n",
      "Albertville       1.478979\n",
      "Innsbruck         1.386247\n",
      "Calgary           1.082503\n",
      "Sarajevo          1.013427\n",
      "Grenoble          0.954760\n",
      "Sapporo           0.913125\n",
      "Lake Placid       0.709683\n",
      "Name: City, dtype: float64\n"
     ]
    },
    {
     "data": {
      "image/png": "[encoded data removed]",
      "text/plain": [
       "<Figure size 432x288 with 1 Axes>"
      ]
     },
     "metadata": {
      "needs_background": "light"
     },
     "output_type": "display_data"
    },
    {
     "name": "stdout",
     "output_type": "stream",
     "text": [
      "Sport\n",
      "Athletics                    14626\n",
      "Swimming                     10108\n",
      "Gymnastics                    8815\n",
      "Cross Country Skiing          4045\n",
      "Rowing                        4002\n",
      "Cycling                       3980\n",
      "Shooting                      3812\n",
      "Alpine Skiing                 3373\n",
      "Fencing                       3065\n",
      "Canoeing                      2897\n",
      "Wrestling                     2651\n",
      "Biathlon                      2577\n",
      "Sailing                       2479\n",
      "Ice Hockey                    2423\n",
      "Speed Skating                 2323\n",
      "Football                      2294\n",
      "Equestrianism                 2283\n",
      "Boxing                        2265\n",
      "Hockey                        2222\n",
      "Handball                      1928\n",
      "Judo                          1861\n",
      "Basketball                    1856\n",
      "Volleyball                    1842\n",
      "Weightlifting                 1536\n",
      "Water Polo                    1400\n",
      "Bobsleigh                     1181\n",
      "Tennis                        1112\n",
      "Archery                       1070\n",
      "Ski Jumping                   1063\n",
      "Diving                        1039\n",
      "Table Tennis                   978\n",
      "Figure Skating                 836\n",
      "Short Track Speed Skating      810\n",
      "Badminton                      782\n",
      "Luge                           781\n",
      "Modern Pentathlon              612\n",
      "Nordic Combined                595\n",
      "Freestyle Skiing               529\n",
      "Snowboarding                   513\n",
      "Synchronized Swimming          481\n",
      "Baseball                       464\n",
      "Rhythmic Gymnastics            373\n",
      "Taekwondo                      348\n",
      "Beach Volleyball               290\n",
      "Triathlon                      283\n",
      "Softball                       261\n",
      "Curling                        226\n",
      "Rugby Sevens                   147\n",
      "Skeleton                       101\n",
      "Trampolining                    82\n",
      "Golf                            61\n",
      "Name: Sport, dtype: int64\n",
      "Athletics                    13.839763\n",
      "Swimming                      9.564633\n",
      "Gymnastics                    8.341140\n",
      "Cross Country Skiing          3.827557\n",
      "Rowing                        3.786868\n",
      "Cycling                       3.766051\n",
      "Shooting                      3.607082\n",
      "Alpine Skiing                 3.191681\n",
      "Fencing                       2.900238\n",
      "Canoeing                      2.741269\n",
      "Wrestling                     2.508493\n",
      "Biathlon                      2.438470\n",
      "Sailing                       2.345739\n",
      "Ice Hockey                    2.292749\n",
      "Speed Skating                 2.198125\n",
      "Football                      2.170683\n",
      "Equestrianism                 2.160275\n",
      "Boxing                        2.143242\n",
      "Hockey                        2.102554\n",
      "Handball                      1.824358\n",
      "Judo                          1.760960\n",
      "Basketball                    1.756229\n",
      "Volleyball                    1.742981\n",
      "Weightlifting                 1.453431\n",
      "Water Polo                    1.324741\n",
      "Bobsleigh                     1.117514\n",
      "Tennis                        1.052223\n",
      "Archery                       1.012481\n",
      "Ski Jumping                   1.005857\n",
      "Diving                        0.983147\n",
      "Table Tennis                  0.925427\n",
      "Figure Skating                0.791060\n",
      "Short Track Speed Skating     0.766458\n",
      "Badminton                     0.739963\n",
      "Luge                          0.739016\n",
      "Modern Pentathlon             0.579101\n",
      "Nordic Combined               0.563015\n",
      "Freestyle Skiing              0.500563\n",
      "Snowboarding                  0.485423\n",
      "Synchronized Swimming         0.455143\n",
      "Baseball                      0.439057\n",
      "Rhythmic Gymnastics           0.352949\n",
      "Taekwondo                     0.329293\n",
      "Beach Volleyball              0.274411\n",
      "Triathlon                     0.267787\n",
      "Softball                      0.246970\n",
      "Curling                       0.213851\n",
      "Rugby Sevens                  0.139098\n",
      "Skeleton                      0.095571\n",
      "Trampolining                  0.077592\n",
      "Golf                          0.057721\n",
      "Name: Sport, dtype: float64\n"
     ]
    },
    {
     "data": {
      "image/png": "[encoded data removed]",
      "text/plain": [
       "<Figure size 432x288 with 1 Axes>"
      ]
     },
     "metadata": {
      "needs_background": "light"
     },
     "output_type": "display_data"
    },
    {
     "name": "stdout",
     "output_type": "stream",
     "text": [
      "Event\n",
      "Ice Hockey Men's Ice Hockey                       2004\n",
      "Football Men's Football                           1727\n",
      "Hockey Men's Hockey                               1451\n",
      "Handball Men's Handball                           1181\n",
      "Basketball Men's Basketball                       1176\n",
      "                                                  ... \n",
      "Snowboarding Men's Slopestyle                       12\n",
      "Wrestling Women's Light-Heavyweight, Freestyle      11\n",
      "Wrestling Women's Featherweight, Freestyle          11\n",
      "Freestyle Skiing Women's Halfpipe                   11\n",
      "Boxing Women's Middleweight                         10\n",
      "Name: Event, Length: 486, dtype: int64\n",
      "Ice Hockey Men's Ice Hockey                       1.896273\n",
      "Football Men's Football                           1.634163\n",
      "Hockey Men's Hockey                               1.373000\n",
      "Handball Men's Handball                           1.117514\n",
      "Basketball Men's Basketball                       1.112783\n",
      "                                                    ...   \n",
      "Snowboarding Men's Slopestyle                     0.011355\n",
      "Wrestling Women's Light-Heavyweight, Freestyle    0.010409\n",
      "Wrestling Women's Featherweight, Freestyle        0.010409\n",
      "Freestyle Skiing Women's Halfpipe                 0.010409\n",
      "Boxing Women's Middleweight                       0.009462\n",
      "Name: Event, Length: 486, dtype: float64\n"
     ]
    },
    {
     "data": {
      "image/png": "[encoded data removed]",
      "text/plain": [
       "<Figure size 432x288 with 1 Axes>"
      ]
     },
     "metadata": {
      "needs_background": "light"
     },
     "output_type": "display_data"
    },
    {
     "name": "stdout",
     "output_type": "stream",
     "text": [
      "Medal\n",
      "None      90730\n",
      "Bronze     5113\n",
      "Silver     4947\n",
      "Gold       4891\n",
      "Name: Medal, dtype: int64\n",
      "None      85.852708\n",
      "Bronze     4.838145\n",
      "Silver     4.681068\n",
      "Gold       4.628079\n",
      "Name: Medal, dtype: float64\n"
     ]
    },
    {
     "data": {
      "image/png": "[encoded data removed]",
      "text/plain": [
       "<Figure size 432x288 with 1 Axes>"
      ]
     },
     "metadata": {
      "needs_background": "light"
     },
     "output_type": "display_data"
    },
    {
     "name": "stdout",
     "output_type": "stream",
     "text": [
      "medalist\n",
      "0    90730\n",
      "1    14951\n",
      "Name: medalist, dtype: int64\n",
      "0    85.852708\n",
      "1    14.147292\n",
      "Name: medalist, dtype: float64\n"
     ]
    },
    {
     "data": {
      "image/png": "[encoded data removed]",
      "text/plain": [
       "<Figure size 432x288 with 1 Axes>"
      ]
     },
     "metadata": {
      "needs_background": "light"
     },
     "output_type": "display_data"
    }
   ],
   "source": [
    "num_vars = ['Age', 'Height', 'Weight', 'BMI']\n",
    "cat_vars = ['Sex', 'Team', 'NOC', 'Games', 'Year', 'Season', 'City', 'Sport', 'Event', 'Medal', 'medalist']\n",
    "\n",
    "for col in cat_vars:\n",
    "    print(col)\n",
    "    print(train[col].value_counts())\n",
    "    print(train[col].value_counts(normalize=True)*100)\n",
    "    sns.countplot(x=col, data=train)\n",
    "    plt.show()"
   ]
  },
  {
   "cell_type": "code",
   "execution_count": 39,
   "id": "10c7ae94-d3e9-40b9-beda-17cd498ef48b",
   "metadata": {},
   "outputs": [
    {
     "data": {
      "image/png": "[encoded data removed]",
      "text/plain": [
       "<Figure size 432x288 with 1 Axes>"
      ]
     },
     "metadata": {
      "needs_background": "light"
     },
     "output_type": "display_data"
    },
    {
     "data": {
      "image/png": "[encoded data removed]",
      "text/plain": [
       "<Figure size 432x288 with 1 Axes>"
      ]
     },
     "metadata": {
      "needs_background": "light"
     },
     "output_type": "display_data"
    },
    {
     "data": {
      "image/png": "[encoded data removed]",
      "text/plain": [
       "<Figure size 432x288 with 1 Axes>"
      ]
     },
     "metadata": {
      "needs_background": "light"
     },
     "output_type": "display_data"
    },
    {
     "data": {
      "image/png": "[encoded data removed]",
      "text/plain": [
       "<Figure size 432x288 with 1 Axes>"
      ]
     },
     "metadata": {
      "needs_background": "light"
     },
     "output_type": "display_data"
    }
   ],
   "source": [
    "for col in num_vars:\n",
    "    train[col].hist()\n",
    "    plt.title(col+' Distribution')\n",
    "    plt.show()"
   ]
  },
  {
   "cell_type": "code",
   "execution_count": null,
   "id": "d984d2cf-0e6d-41c1-a49a-3c662b032257",
   "metadata": {},
   "outputs": [],
   "source": []
  }
 ],
 "metadata": {
  "kernelspec": {
   "display_name": "Python 3 (ipykernel)",
   "language": "python",
   "name": "python3"
  },
  "language_info": {
   "codemirror_mode": {
    "name": "ipython",
    "version": 3
   },
   "file_extension": ".py",
   "mimetype": "text/x-python",
   "name": "python",
   "nbconvert_exporter": "python",
   "pygments_lexer": "ipython3",
   "version": "3.9.12"
  }
 },
 "nbformat": 4,
 "nbformat_minor": 5
}
